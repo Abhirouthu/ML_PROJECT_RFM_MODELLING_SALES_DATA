{
 "cells": [
  {
   "cell_type": "code",
   "execution_count": 1,
   "id": "c1e0ba53",
   "metadata": {},
   "outputs": [],
   "source": [
    "# importing libraries\n",
    "import numpy as np\n",
    "import pandas as pd\n",
    "import matplotlib.pyplot as plt\n",
    "import seaborn as sns\n",
    "import warnings\n",
    "warnings.filterwarnings('ignore')\n",
    "\n",
    "import datetime as dt\n",
    "\n",
    "import sklearn\n",
    "from sklearn.preprocessing import StandardScaler\n",
    "from sklearn.cluster import KMeans\n",
    "from sklearn.metrics import silhouette_score\n"
   ]
  },
  {
   "cell_type": "code",
   "execution_count": 2,
   "id": "96beaa2b",
   "metadata": {},
   "outputs": [
    {
     "data": {
      "text/html": [
       "<div>\n",
       "<style scoped>\n",
       "    .dataframe tbody tr th:only-of-type {\n",
       "        vertical-align: middle;\n",
       "    }\n",
       "\n",
       "    .dataframe tbody tr th {\n",
       "        vertical-align: top;\n",
       "    }\n",
       "\n",
       "    .dataframe thead th {\n",
       "        text-align: right;\n",
       "    }\n",
       "</style>\n",
       "<table border=\"1\" class=\"dataframe\">\n",
       "  <thead>\n",
       "    <tr style=\"text-align: right;\">\n",
       "      <th></th>\n",
       "      <th>CustomerID</th>\n",
       "      <th>TOTAL_ORDERS</th>\n",
       "      <th>REVENUE</th>\n",
       "      <th>AVERAGE_ORDER_VALUE</th>\n",
       "      <th>CARRIAGE_REVENUE</th>\n",
       "      <th>AVERAGESHIPPING</th>\n",
       "      <th>FIRST_ORDER_DATE</th>\n",
       "      <th>LATEST_ORDER_DATE</th>\n",
       "      <th>AVGDAYSBETWEENORDERS</th>\n",
       "      <th>DAYSSINCELASTORDER</th>\n",
       "      <th>...</th>\n",
       "      <th>TIME_0000_0600_ORDERS</th>\n",
       "      <th>TIME_0601_1200_ORDERS</th>\n",
       "      <th>TIME_1200_1800_ORDERS</th>\n",
       "      <th>TIME_1801_2359_ORDERS</th>\n",
       "      <th>TIME_0000_0600_REVENUE</th>\n",
       "      <th>TIME_0601_1200_REVENUE</th>\n",
       "      <th>TIME_1200_1800_REVENUE</th>\n",
       "      <th>TIME_1801_2359_REVENUE</th>\n",
       "      <th>Unnamed: 40</th>\n",
       "      <th>Unnamed: 41</th>\n",
       "    </tr>\n",
       "  </thead>\n",
       "  <tbody>\n",
       "    <tr>\n",
       "      <th>0</th>\n",
       "      <td>22</td>\n",
       "      <td>124</td>\n",
       "      <td>11986.54</td>\n",
       "      <td>96.67</td>\n",
       "      <td>529.59</td>\n",
       "      <td>4.27</td>\n",
       "      <td>2016-12-30</td>\n",
       "      <td>2021-10-24</td>\n",
       "      <td>14.19</td>\n",
       "      <td>1</td>\n",
       "      <td>...</td>\n",
       "      <td>12</td>\n",
       "      <td>61</td>\n",
       "      <td>37</td>\n",
       "      <td>14</td>\n",
       "      <td>1067.92</td>\n",
       "      <td>5674.65</td>\n",
       "      <td>3916.53</td>\n",
       "      <td>1327.44</td>\n",
       "      <td>NaN</td>\n",
       "      <td>NaN</td>\n",
       "    </tr>\n",
       "    <tr>\n",
       "      <th>1</th>\n",
       "      <td>29</td>\n",
       "      <td>82</td>\n",
       "      <td>11025.96</td>\n",
       "      <td>134.46</td>\n",
       "      <td>97.92</td>\n",
       "      <td>1.19</td>\n",
       "      <td>2018-03-31</td>\n",
       "      <td>2021-10-24</td>\n",
       "      <td>15.89</td>\n",
       "      <td>1</td>\n",
       "      <td>...</td>\n",
       "      <td>1</td>\n",
       "      <td>13</td>\n",
       "      <td>24</td>\n",
       "      <td>44</td>\n",
       "      <td>30.25</td>\n",
       "      <td>3143.69</td>\n",
       "      <td>2205.47</td>\n",
       "      <td>5646.55</td>\n",
       "      <td>NaN</td>\n",
       "      <td>33212.76</td>\n",
       "    </tr>\n",
       "    <tr>\n",
       "      <th>2</th>\n",
       "      <td>83</td>\n",
       "      <td>43</td>\n",
       "      <td>7259.69</td>\n",
       "      <td>168.83</td>\n",
       "      <td>171.69</td>\n",
       "      <td>3.99</td>\n",
       "      <td>2017-11-30</td>\n",
       "      <td>2021-10-24</td>\n",
       "      <td>33.12</td>\n",
       "      <td>1</td>\n",
       "      <td>...</td>\n",
       "      <td>0</td>\n",
       "      <td>6</td>\n",
       "      <td>12</td>\n",
       "      <td>25</td>\n",
       "      <td>0.00</td>\n",
       "      <td>707.98</td>\n",
       "      <td>2560.91</td>\n",
       "      <td>3990.80</td>\n",
       "      <td>NaN</td>\n",
       "      <td>NaN</td>\n",
       "    </tr>\n",
       "    <tr>\n",
       "      <th>3</th>\n",
       "      <td>95</td>\n",
       "      <td>44</td>\n",
       "      <td>6992.27</td>\n",
       "      <td>158.92</td>\n",
       "      <td>92.82</td>\n",
       "      <td>2.11</td>\n",
       "      <td>2019-04-09</td>\n",
       "      <td>2021-10-24</td>\n",
       "      <td>21.11</td>\n",
       "      <td>1</td>\n",
       "      <td>...</td>\n",
       "      <td>0</td>\n",
       "      <td>10</td>\n",
       "      <td>13</td>\n",
       "      <td>21</td>\n",
       "      <td>0.00</td>\n",
       "      <td>1908.99</td>\n",
       "      <td>2025.05</td>\n",
       "      <td>3058.23</td>\n",
       "      <td>NaN</td>\n",
       "      <td>NaN</td>\n",
       "    </tr>\n",
       "    <tr>\n",
       "      <th>4</th>\n",
       "      <td>124</td>\n",
       "      <td>55</td>\n",
       "      <td>6263.44</td>\n",
       "      <td>113.88</td>\n",
       "      <td>179.04</td>\n",
       "      <td>3.26</td>\n",
       "      <td>2020-10-23</td>\n",
       "      <td>2021-10-24</td>\n",
       "      <td>6.65</td>\n",
       "      <td>1</td>\n",
       "      <td>...</td>\n",
       "      <td>6</td>\n",
       "      <td>9</td>\n",
       "      <td>27</td>\n",
       "      <td>13</td>\n",
       "      <td>501.34</td>\n",
       "      <td>1197.83</td>\n",
       "      <td>3004.77</td>\n",
       "      <td>1559.50</td>\n",
       "      <td>NaN</td>\n",
       "      <td>NaN</td>\n",
       "    </tr>\n",
       "  </tbody>\n",
       "</table>\n",
       "<p>5 rows × 42 columns</p>\n",
       "</div>"
      ],
      "text/plain": [
       "   CustomerID  TOTAL_ORDERS   REVENUE  AVERAGE_ORDER_VALUE  CARRIAGE_REVENUE  \\\n",
       "0          22           124  11986.54                96.67            529.59   \n",
       "1          29            82  11025.96               134.46             97.92   \n",
       "2          83            43   7259.69               168.83            171.69   \n",
       "3          95            44   6992.27               158.92             92.82   \n",
       "4         124            55   6263.44               113.88            179.04   \n",
       "\n",
       "   AVERAGESHIPPING FIRST_ORDER_DATE LATEST_ORDER_DATE  AVGDAYSBETWEENORDERS  \\\n",
       "0             4.27       2016-12-30        2021-10-24                 14.19   \n",
       "1             1.19       2018-03-31        2021-10-24                 15.89   \n",
       "2             3.99       2017-11-30        2021-10-24                 33.12   \n",
       "3             2.11       2019-04-09        2021-10-24                 21.11   \n",
       "4             3.26       2020-10-23        2021-10-24                  6.65   \n",
       "\n",
       "   DAYSSINCELASTORDER  ...  TIME_0000_0600_ORDERS  TIME_0601_1200_ORDERS  \\\n",
       "0                   1  ...                     12                     61   \n",
       "1                   1  ...                      1                     13   \n",
       "2                   1  ...                      0                      6   \n",
       "3                   1  ...                      0                     10   \n",
       "4                   1  ...                      6                      9   \n",
       "\n",
       "   TIME_1200_1800_ORDERS  TIME_1801_2359_ORDERS  TIME_0000_0600_REVENUE  \\\n",
       "0                     37                     14                 1067.92   \n",
       "1                     24                     44                   30.25   \n",
       "2                     12                     25                    0.00   \n",
       "3                     13                     21                    0.00   \n",
       "4                     27                     13                  501.34   \n",
       "\n",
       "   TIME_0601_1200_REVENUE  TIME_1200_1800_REVENUE  TIME_1801_2359_REVENUE  \\\n",
       "0                 5674.65                 3916.53                 1327.44   \n",
       "1                 3143.69                 2205.47                 5646.55   \n",
       "2                  707.98                 2560.91                 3990.80   \n",
       "3                 1908.99                 2025.05                 3058.23   \n",
       "4                 1197.83                 3004.77                 1559.50   \n",
       "\n",
       "   Unnamed: 40  Unnamed: 41  \n",
       "0          NaN          NaN  \n",
       "1          NaN     33212.76  \n",
       "2          NaN          NaN  \n",
       "3          NaN          NaN  \n",
       "4          NaN          NaN  \n",
       "\n",
       "[5 rows x 42 columns]"
      ]
     },
     "execution_count": 2,
     "metadata": {},
     "output_type": "execute_result"
    }
   ],
   "source": [
    "\n",
    "# read the dataset\n",
    "sales_df = pd.read_excel(\"sales_data.xlsx\")\n",
    "sales_df.head()"
   ]
  },
  {
   "cell_type": "code",
   "execution_count": 3,
   "id": "32884e6e",
   "metadata": {},
   "outputs": [
    {
     "name": "stdout",
     "output_type": "stream",
     "text": [
      "<class 'pandas.core.frame.DataFrame'>\n",
      "RangeIndex: 5000 entries, 0 to 4999\n",
      "Data columns (total 42 columns):\n",
      " #   Column                     Non-Null Count  Dtype         \n",
      "---  ------                     --------------  -----         \n",
      " 0   CustomerID                 5000 non-null   int64         \n",
      " 1   TOTAL_ORDERS               5000 non-null   int64         \n",
      " 2   REVENUE                    5000 non-null   float64       \n",
      " 3   AVERAGE_ORDER_VALUE        5000 non-null   float64       \n",
      " 4   CARRIAGE_REVENUE           5000 non-null   float64       \n",
      " 5   AVERAGESHIPPING            5000 non-null   float64       \n",
      " 6   FIRST_ORDER_DATE           5000 non-null   datetime64[ns]\n",
      " 7   LATEST_ORDER_DATE          5000 non-null   datetime64[ns]\n",
      " 8   AVGDAYSBETWEENORDERS       5000 non-null   float64       \n",
      " 9   DAYSSINCELASTORDER         5000 non-null   int64         \n",
      " 10  MONDAY_ORDERS              5000 non-null   int64         \n",
      " 11  TUESDAY_ORDERS             5000 non-null   int64         \n",
      " 12  WEDNESDAY_ORDERS           5000 non-null   int64         \n",
      " 13  THURSDAY_ORDERS            5000 non-null   int64         \n",
      " 14  FRIDAY_ORDERS              5000 non-null   int64         \n",
      " 15  SATURDAY_ORDERS            5000 non-null   int64         \n",
      " 16  SUNDAY_ORDERS              5000 non-null   int64         \n",
      " 17  MONDAY_REVENUE             5000 non-null   float64       \n",
      " 18  TUESDAY_REVENUE            5000 non-null   float64       \n",
      " 19  WEDNESDAY_REVENUE          5000 non-null   float64       \n",
      " 20  THURSDAY_REVENUE           5000 non-null   float64       \n",
      " 21  FRIDAY_REVENUE             5000 non-null   float64       \n",
      " 22  SATURDAY_REVENUE           5000 non-null   float64       \n",
      " 23  SUNDAY_REVENUE             5000 non-null   float64       \n",
      " 24  WEEK1_DAY01_DAY07_ORDERS   5000 non-null   int64         \n",
      " 25  WEEK2_DAY08_DAY15_ORDERS   5000 non-null   int64         \n",
      " 26  WEEK3_DAY16_DAY23_ORDERS   5000 non-null   int64         \n",
      " 27  WEEK4_DAY24_DAY31_ORDERS   5000 non-null   int64         \n",
      " 28  WEEK1_DAY01_DAY07_REVENUE  5000 non-null   float64       \n",
      " 29  WEEK2_DAY08_DAY15_REVENUE  5000 non-null   float64       \n",
      " 30  WEEK3_DAY16_DAY23_REVENUE  5000 non-null   float64       \n",
      " 31  WEEK4_DAY24_DAY31_REVENUE  5000 non-null   float64       \n",
      " 32  TIME_0000_0600_ORDERS      5000 non-null   int64         \n",
      " 33  TIME_0601_1200_ORDERS      5000 non-null   int64         \n",
      " 34  TIME_1200_1800_ORDERS      5000 non-null   int64         \n",
      " 35  TIME_1801_2359_ORDERS      5000 non-null   int64         \n",
      " 36  TIME_0000_0600_REVENUE     5000 non-null   float64       \n",
      " 37  TIME_0601_1200_REVENUE     5000 non-null   float64       \n",
      " 38  TIME_1200_1800_REVENUE     5000 non-null   float64       \n",
      " 39  TIME_1801_2359_REVENUE     5000 non-null   float64       \n",
      " 40  Unnamed: 40                0 non-null      float64       \n",
      " 41  Unnamed: 41                1 non-null      float64       \n",
      "dtypes: datetime64[ns](2), float64(22), int64(18)\n",
      "memory usage: 1.6 MB\n"
     ]
    }
   ],
   "source": [
    "# basics of the df\n",
    "sales_df.info()"
   ]
  },
  {
   "cell_type": "code",
   "execution_count": 4,
   "id": "5163297b",
   "metadata": {
    "scrolled": true
   },
   "outputs": [
    {
     "data": {
      "text/plain": [
       "CustomerID                      0\n",
       "TOTAL_ORDERS                    0\n",
       "REVENUE                         0\n",
       "AVERAGE_ORDER_VALUE             0\n",
       "CARRIAGE_REVENUE                0\n",
       "AVERAGESHIPPING                 0\n",
       "FIRST_ORDER_DATE                0\n",
       "LATEST_ORDER_DATE               0\n",
       "AVGDAYSBETWEENORDERS            0\n",
       "DAYSSINCELASTORDER              0\n",
       "MONDAY_ORDERS                   0\n",
       "TUESDAY_ORDERS                  0\n",
       "WEDNESDAY_ORDERS                0\n",
       "THURSDAY_ORDERS                 0\n",
       "FRIDAY_ORDERS                   0\n",
       "SATURDAY_ORDERS                 0\n",
       "SUNDAY_ORDERS                   0\n",
       "MONDAY_REVENUE                  0\n",
       "TUESDAY_REVENUE                 0\n",
       "WEDNESDAY_REVENUE               0\n",
       "THURSDAY_REVENUE                0\n",
       "FRIDAY_REVENUE                  0\n",
       "SATURDAY_REVENUE                0\n",
       "SUNDAY_REVENUE                  0\n",
       "WEEK1_DAY01_DAY07_ORDERS        0\n",
       "WEEK2_DAY08_DAY15_ORDERS        0\n",
       "WEEK3_DAY16_DAY23_ORDERS        0\n",
       "WEEK4_DAY24_DAY31_ORDERS        0\n",
       "WEEK1_DAY01_DAY07_REVENUE       0\n",
       "WEEK2_DAY08_DAY15_REVENUE       0\n",
       "WEEK3_DAY16_DAY23_REVENUE       0\n",
       "WEEK4_DAY24_DAY31_REVENUE       0\n",
       "TIME_0000_0600_ORDERS           0\n",
       "TIME_0601_1200_ORDERS           0\n",
       "TIME_1200_1800_ORDERS           0\n",
       "TIME_1801_2359_ORDERS           0\n",
       "TIME_0000_0600_REVENUE          0\n",
       "TIME_0601_1200_REVENUE          0\n",
       "TIME_1200_1800_REVENUE          0\n",
       "TIME_1801_2359_REVENUE          0\n",
       "Unnamed: 40                  5000\n",
       "Unnamed: 41                  4999\n",
       "dtype: int64"
      ]
     },
     "execution_count": 4,
     "metadata": {},
     "output_type": "execute_result"
    }
   ],
   "source": [
    "#null values\n",
    "sales_df.isnull().sum()"
   ]
  },
  {
   "cell_type": "code",
   "execution_count": 5,
   "id": "d82d1271",
   "metadata": {},
   "outputs": [],
   "source": [
    "# i have seen  that unnamed 40,41 doesnt have any use or data included so i removed the unnamed 40 and unnamed 41\n",
    "# dropping feauture unnamed 40\n",
    "sales_df.drop('Unnamed: 40',axis=1,inplace=True)"
   ]
  },
  {
   "cell_type": "code",
   "execution_count": 6,
   "id": "79f9c010",
   "metadata": {},
   "outputs": [],
   "source": [
    "# dropped feauture unnamed 41\n",
    "sales_df.drop('Unnamed: 41',axis=1,inplace=True)"
   ]
  },
  {
   "cell_type": "code",
   "execution_count": 7,
   "id": "cdb79f78",
   "metadata": {},
   "outputs": [
    {
     "data": {
      "text/html": [
       "<div>\n",
       "<style scoped>\n",
       "    .dataframe tbody tr th:only-of-type {\n",
       "        vertical-align: middle;\n",
       "    }\n",
       "\n",
       "    .dataframe tbody tr th {\n",
       "        vertical-align: top;\n",
       "    }\n",
       "\n",
       "    .dataframe thead th {\n",
       "        text-align: right;\n",
       "    }\n",
       "</style>\n",
       "<table border=\"1\" class=\"dataframe\">\n",
       "  <thead>\n",
       "    <tr style=\"text-align: right;\">\n",
       "      <th></th>\n",
       "      <th>CustomerID</th>\n",
       "      <th>TOTAL_ORDERS</th>\n",
       "      <th>REVENUE</th>\n",
       "      <th>AVERAGE_ORDER_VALUE</th>\n",
       "      <th>CARRIAGE_REVENUE</th>\n",
       "      <th>AVERAGESHIPPING</th>\n",
       "      <th>FIRST_ORDER_DATE</th>\n",
       "      <th>LATEST_ORDER_DATE</th>\n",
       "      <th>AVGDAYSBETWEENORDERS</th>\n",
       "      <th>DAYSSINCELASTORDER</th>\n",
       "      <th>...</th>\n",
       "      <th>WEEK3_DAY16_DAY23_REVENUE</th>\n",
       "      <th>WEEK4_DAY24_DAY31_REVENUE</th>\n",
       "      <th>TIME_0000_0600_ORDERS</th>\n",
       "      <th>TIME_0601_1200_ORDERS</th>\n",
       "      <th>TIME_1200_1800_ORDERS</th>\n",
       "      <th>TIME_1801_2359_ORDERS</th>\n",
       "      <th>TIME_0000_0600_REVENUE</th>\n",
       "      <th>TIME_0601_1200_REVENUE</th>\n",
       "      <th>TIME_1200_1800_REVENUE</th>\n",
       "      <th>TIME_1801_2359_REVENUE</th>\n",
       "    </tr>\n",
       "  </thead>\n",
       "  <tbody>\n",
       "    <tr>\n",
       "      <th>0</th>\n",
       "      <td>22</td>\n",
       "      <td>124</td>\n",
       "      <td>11986.54</td>\n",
       "      <td>96.67</td>\n",
       "      <td>529.59</td>\n",
       "      <td>4.27</td>\n",
       "      <td>2016-12-30</td>\n",
       "      <td>2021-10-24</td>\n",
       "      <td>14.19</td>\n",
       "      <td>1</td>\n",
       "      <td>...</td>\n",
       "      <td>2592.18</td>\n",
       "      <td>2409.71</td>\n",
       "      <td>12</td>\n",
       "      <td>61</td>\n",
       "      <td>37</td>\n",
       "      <td>14</td>\n",
       "      <td>1067.92</td>\n",
       "      <td>5674.65</td>\n",
       "      <td>3916.53</td>\n",
       "      <td>1327.44</td>\n",
       "    </tr>\n",
       "    <tr>\n",
       "      <th>1</th>\n",
       "      <td>29</td>\n",
       "      <td>82</td>\n",
       "      <td>11025.96</td>\n",
       "      <td>134.46</td>\n",
       "      <td>97.92</td>\n",
       "      <td>1.19</td>\n",
       "      <td>2018-03-31</td>\n",
       "      <td>2021-10-24</td>\n",
       "      <td>15.89</td>\n",
       "      <td>1</td>\n",
       "      <td>...</td>\n",
       "      <td>2807.66</td>\n",
       "      <td>4106.19</td>\n",
       "      <td>1</td>\n",
       "      <td>13</td>\n",
       "      <td>24</td>\n",
       "      <td>44</td>\n",
       "      <td>30.25</td>\n",
       "      <td>3143.69</td>\n",
       "      <td>2205.47</td>\n",
       "      <td>5646.55</td>\n",
       "    </tr>\n",
       "    <tr>\n",
       "      <th>2</th>\n",
       "      <td>83</td>\n",
       "      <td>43</td>\n",
       "      <td>7259.69</td>\n",
       "      <td>168.83</td>\n",
       "      <td>171.69</td>\n",
       "      <td>3.99</td>\n",
       "      <td>2017-11-30</td>\n",
       "      <td>2021-10-24</td>\n",
       "      <td>33.12</td>\n",
       "      <td>1</td>\n",
       "      <td>...</td>\n",
       "      <td>713.94</td>\n",
       "      <td>2861.90</td>\n",
       "      <td>0</td>\n",
       "      <td>6</td>\n",
       "      <td>12</td>\n",
       "      <td>25</td>\n",
       "      <td>0.00</td>\n",
       "      <td>707.98</td>\n",
       "      <td>2560.91</td>\n",
       "      <td>3990.80</td>\n",
       "    </tr>\n",
       "    <tr>\n",
       "      <th>3</th>\n",
       "      <td>95</td>\n",
       "      <td>44</td>\n",
       "      <td>6992.27</td>\n",
       "      <td>158.92</td>\n",
       "      <td>92.82</td>\n",
       "      <td>2.11</td>\n",
       "      <td>2019-04-09</td>\n",
       "      <td>2021-10-24</td>\n",
       "      <td>21.11</td>\n",
       "      <td>1</td>\n",
       "      <td>...</td>\n",
       "      <td>997.02</td>\n",
       "      <td>1260.08</td>\n",
       "      <td>0</td>\n",
       "      <td>10</td>\n",
       "      <td>13</td>\n",
       "      <td>21</td>\n",
       "      <td>0.00</td>\n",
       "      <td>1908.99</td>\n",
       "      <td>2025.05</td>\n",
       "      <td>3058.23</td>\n",
       "    </tr>\n",
       "    <tr>\n",
       "      <th>4</th>\n",
       "      <td>124</td>\n",
       "      <td>55</td>\n",
       "      <td>6263.44</td>\n",
       "      <td>113.88</td>\n",
       "      <td>179.04</td>\n",
       "      <td>3.26</td>\n",
       "      <td>2020-10-23</td>\n",
       "      <td>2021-10-24</td>\n",
       "      <td>6.65</td>\n",
       "      <td>1</td>\n",
       "      <td>...</td>\n",
       "      <td>2725.66</td>\n",
       "      <td>768.46</td>\n",
       "      <td>6</td>\n",
       "      <td>9</td>\n",
       "      <td>27</td>\n",
       "      <td>13</td>\n",
       "      <td>501.34</td>\n",
       "      <td>1197.83</td>\n",
       "      <td>3004.77</td>\n",
       "      <td>1559.50</td>\n",
       "    </tr>\n",
       "  </tbody>\n",
       "</table>\n",
       "<p>5 rows × 40 columns</p>\n",
       "</div>"
      ],
      "text/plain": [
       "   CustomerID  TOTAL_ORDERS   REVENUE  AVERAGE_ORDER_VALUE  CARRIAGE_REVENUE  \\\n",
       "0          22           124  11986.54                96.67            529.59   \n",
       "1          29            82  11025.96               134.46             97.92   \n",
       "2          83            43   7259.69               168.83            171.69   \n",
       "3          95            44   6992.27               158.92             92.82   \n",
       "4         124            55   6263.44               113.88            179.04   \n",
       "\n",
       "   AVERAGESHIPPING FIRST_ORDER_DATE LATEST_ORDER_DATE  AVGDAYSBETWEENORDERS  \\\n",
       "0             4.27       2016-12-30        2021-10-24                 14.19   \n",
       "1             1.19       2018-03-31        2021-10-24                 15.89   \n",
       "2             3.99       2017-11-30        2021-10-24                 33.12   \n",
       "3             2.11       2019-04-09        2021-10-24                 21.11   \n",
       "4             3.26       2020-10-23        2021-10-24                  6.65   \n",
       "\n",
       "   DAYSSINCELASTORDER  ...  WEEK3_DAY16_DAY23_REVENUE  \\\n",
       "0                   1  ...                    2592.18   \n",
       "1                   1  ...                    2807.66   \n",
       "2                   1  ...                     713.94   \n",
       "3                   1  ...                     997.02   \n",
       "4                   1  ...                    2725.66   \n",
       "\n",
       "   WEEK4_DAY24_DAY31_REVENUE  TIME_0000_0600_ORDERS  TIME_0601_1200_ORDERS  \\\n",
       "0                    2409.71                     12                     61   \n",
       "1                    4106.19                      1                     13   \n",
       "2                    2861.90                      0                      6   \n",
       "3                    1260.08                      0                     10   \n",
       "4                     768.46                      6                      9   \n",
       "\n",
       "   TIME_1200_1800_ORDERS  TIME_1801_2359_ORDERS  TIME_0000_0600_REVENUE  \\\n",
       "0                     37                     14                 1067.92   \n",
       "1                     24                     44                   30.25   \n",
       "2                     12                     25                    0.00   \n",
       "3                     13                     21                    0.00   \n",
       "4                     27                     13                  501.34   \n",
       "\n",
       "   TIME_0601_1200_REVENUE  TIME_1200_1800_REVENUE  TIME_1801_2359_REVENUE  \n",
       "0                 5674.65                 3916.53                 1327.44  \n",
       "1                 3143.69                 2205.47                 5646.55  \n",
       "2                  707.98                 2560.91                 3990.80  \n",
       "3                 1908.99                 2025.05                 3058.23  \n",
       "4                 1197.83                 3004.77                 1559.50  \n",
       "\n",
       "[5 rows x 40 columns]"
      ]
     },
     "execution_count": 7,
     "metadata": {},
     "output_type": "execute_result"
    }
   ],
   "source": [
    "# dataset after removing unnecessary feautures\n",
    "sales_df.head()"
   ]
  },
  {
   "cell_type": "code",
   "execution_count": 8,
   "id": "1b860149",
   "metadata": {},
   "outputs": [],
   "source": [
    "sales_df['monetary']=sales_df['REVENUE']"
   ]
  },
  {
   "cell_type": "markdown",
   "id": "fc5bc739",
   "metadata": {},
   "source": [
    "### Prepare the data for modelling\n",
    "- R (Recency): Number of days since last purchase\n",
    "- F (Frequency): Number of tracsactions\n",
    "- M (Monetary): Total amount of transactions (revenue contributed)"
   ]
  },
  {
   "cell_type": "code",
   "execution_count": 9,
   "id": "ad5a7c60",
   "metadata": {},
   "outputs": [
    {
     "data": {
      "text/html": [
       "<div>\n",
       "<style scoped>\n",
       "    .dataframe tbody tr th:only-of-type {\n",
       "        vertical-align: middle;\n",
       "    }\n",
       "\n",
       "    .dataframe tbody tr th {\n",
       "        vertical-align: top;\n",
       "    }\n",
       "\n",
       "    .dataframe thead th {\n",
       "        text-align: right;\n",
       "    }\n",
       "</style>\n",
       "<table border=\"1\" class=\"dataframe\">\n",
       "  <thead>\n",
       "    <tr style=\"text-align: right;\">\n",
       "      <th></th>\n",
       "      <th>CustomerID</th>\n",
       "      <th>monetary</th>\n",
       "    </tr>\n",
       "  </thead>\n",
       "  <tbody>\n",
       "    <tr>\n",
       "      <th>0</th>\n",
       "      <td>1</td>\n",
       "      <td>34847.40</td>\n",
       "    </tr>\n",
       "    <tr>\n",
       "      <th>1</th>\n",
       "      <td>2</td>\n",
       "      <td>32486.98</td>\n",
       "    </tr>\n",
       "    <tr>\n",
       "      <th>2</th>\n",
       "      <td>3</td>\n",
       "      <td>24178.97</td>\n",
       "    </tr>\n",
       "    <tr>\n",
       "      <th>3</th>\n",
       "      <td>4</td>\n",
       "      <td>18554.49</td>\n",
       "    </tr>\n",
       "    <tr>\n",
       "      <th>4</th>\n",
       "      <td>5</td>\n",
       "      <td>16884.99</td>\n",
       "    </tr>\n",
       "  </tbody>\n",
       "</table>\n",
       "</div>"
      ],
      "text/plain": [
       "   CustomerID  monetary\n",
       "0           1  34847.40\n",
       "1           2  32486.98\n",
       "2           3  24178.97\n",
       "3           4  18554.49\n",
       "4           5  16884.99"
      ]
     },
     "execution_count": 9,
     "metadata": {},
     "output_type": "execute_result"
    }
   ],
   "source": [
    "# monetary\n",
    "grouped_df = sales_df.groupby('CustomerID')['monetary'].sum()\n",
    "grouped_df = grouped_df.reset_index()\n",
    "grouped_df.head()"
   ]
  },
  {
   "cell_type": "code",
   "execution_count": 10,
   "id": "b2a42c4d",
   "metadata": {},
   "outputs": [
    {
     "data": {
      "text/html": [
       "<div>\n",
       "<style scoped>\n",
       "    .dataframe tbody tr th:only-of-type {\n",
       "        vertical-align: middle;\n",
       "    }\n",
       "\n",
       "    .dataframe tbody tr th {\n",
       "        vertical-align: top;\n",
       "    }\n",
       "\n",
       "    .dataframe thead th {\n",
       "        text-align: right;\n",
       "    }\n",
       "</style>\n",
       "<table border=\"1\" class=\"dataframe\">\n",
       "  <thead>\n",
       "    <tr style=\"text-align: right;\">\n",
       "      <th></th>\n",
       "      <th>CustomerID</th>\n",
       "      <th>frequency</th>\n",
       "    </tr>\n",
       "  </thead>\n",
       "  <tbody>\n",
       "    <tr>\n",
       "      <th>0</th>\n",
       "      <td>1</td>\n",
       "      <td>61</td>\n",
       "    </tr>\n",
       "    <tr>\n",
       "      <th>1</th>\n",
       "      <td>2</td>\n",
       "      <td>59</td>\n",
       "    </tr>\n",
       "    <tr>\n",
       "      <th>2</th>\n",
       "      <td>3</td>\n",
       "      <td>53</td>\n",
       "    </tr>\n",
       "    <tr>\n",
       "      <th>3</th>\n",
       "      <td>4</td>\n",
       "      <td>84</td>\n",
       "    </tr>\n",
       "    <tr>\n",
       "      <th>4</th>\n",
       "      <td>5</td>\n",
       "      <td>26</td>\n",
       "    </tr>\n",
       "  </tbody>\n",
       "</table>\n",
       "</div>"
      ],
      "text/plain": [
       "   CustomerID  frequency\n",
       "0           1         61\n",
       "1           2         59\n",
       "2           3         53\n",
       "3           4         84\n",
       "4           5         26"
      ]
     },
     "execution_count": 10,
     "metadata": {},
     "output_type": "execute_result"
    }
   ],
   "source": [
    "# frequency\n",
    "frequency = sales_df.groupby('CustomerID')['TOTAL_ORDERS'].sum()\n",
    "frequency = frequency.reset_index()\n",
    "frequency.columns = ['CustomerID', 'frequency']\n",
    "frequency.head()"
   ]
  },
  {
   "cell_type": "code",
   "execution_count": 11,
   "id": "85ffda14",
   "metadata": {},
   "outputs": [
    {
     "data": {
      "text/html": [
       "<div>\n",
       "<style scoped>\n",
       "    .dataframe tbody tr th:only-of-type {\n",
       "        vertical-align: middle;\n",
       "    }\n",
       "\n",
       "    .dataframe tbody tr th {\n",
       "        vertical-align: top;\n",
       "    }\n",
       "\n",
       "    .dataframe thead th {\n",
       "        text-align: right;\n",
       "    }\n",
       "</style>\n",
       "<table border=\"1\" class=\"dataframe\">\n",
       "  <thead>\n",
       "    <tr style=\"text-align: right;\">\n",
       "      <th></th>\n",
       "      <th>CustomerID</th>\n",
       "      <th>monetary</th>\n",
       "      <th>frequency</th>\n",
       "    </tr>\n",
       "  </thead>\n",
       "  <tbody>\n",
       "    <tr>\n",
       "      <th>0</th>\n",
       "      <td>1</td>\n",
       "      <td>34847.40</td>\n",
       "      <td>61</td>\n",
       "    </tr>\n",
       "    <tr>\n",
       "      <th>1</th>\n",
       "      <td>2</td>\n",
       "      <td>32486.98</td>\n",
       "      <td>59</td>\n",
       "    </tr>\n",
       "    <tr>\n",
       "      <th>2</th>\n",
       "      <td>3</td>\n",
       "      <td>24178.97</td>\n",
       "      <td>53</td>\n",
       "    </tr>\n",
       "    <tr>\n",
       "      <th>3</th>\n",
       "      <td>4</td>\n",
       "      <td>18554.49</td>\n",
       "      <td>84</td>\n",
       "    </tr>\n",
       "    <tr>\n",
       "      <th>4</th>\n",
       "      <td>5</td>\n",
       "      <td>16884.99</td>\n",
       "      <td>26</td>\n",
       "    </tr>\n",
       "  </tbody>\n",
       "</table>\n",
       "</div>"
      ],
      "text/plain": [
       "   CustomerID  monetary  frequency\n",
       "0           1  34847.40         61\n",
       "1           2  32486.98         59\n",
       "2           3  24178.97         53\n",
       "3           4  18554.49         84\n",
       "4           5  16884.99         26"
      ]
     },
     "execution_count": 11,
     "metadata": {},
     "output_type": "execute_result"
    }
   ],
   "source": [
    "# merge the two dfs\n",
    "grouped_df = pd.merge(grouped_df, frequency, on='CustomerID', how='inner')\n",
    "grouped_df.head()"
   ]
  },
  {
   "cell_type": "code",
   "execution_count": 12,
   "id": "e6a717a0",
   "metadata": {},
   "outputs": [
    {
     "data": {
      "text/html": [
       "<div>\n",
       "<style scoped>\n",
       "    .dataframe tbody tr th:only-of-type {\n",
       "        vertical-align: middle;\n",
       "    }\n",
       "\n",
       "    .dataframe tbody tr th {\n",
       "        vertical-align: top;\n",
       "    }\n",
       "\n",
       "    .dataframe thead th {\n",
       "        text-align: right;\n",
       "    }\n",
       "</style>\n",
       "<table border=\"1\" class=\"dataframe\">\n",
       "  <thead>\n",
       "    <tr style=\"text-align: right;\">\n",
       "      <th></th>\n",
       "      <th>CustomerID</th>\n",
       "      <th>DAYSSINCELASTORDER</th>\n",
       "    </tr>\n",
       "  </thead>\n",
       "  <tbody>\n",
       "    <tr>\n",
       "      <th>0</th>\n",
       "      <td>1</td>\n",
       "      <td>53</td>\n",
       "    </tr>\n",
       "    <tr>\n",
       "      <th>1</th>\n",
       "      <td>2</td>\n",
       "      <td>94</td>\n",
       "    </tr>\n",
       "    <tr>\n",
       "      <th>2</th>\n",
       "      <td>3</td>\n",
       "      <td>53</td>\n",
       "    </tr>\n",
       "    <tr>\n",
       "      <th>3</th>\n",
       "      <td>4</td>\n",
       "      <td>5</td>\n",
       "    </tr>\n",
       "    <tr>\n",
       "      <th>4</th>\n",
       "      <td>5</td>\n",
       "      <td>130</td>\n",
       "    </tr>\n",
       "  </tbody>\n",
       "</table>\n",
       "</div>"
      ],
      "text/plain": [
       "   CustomerID  DAYSSINCELASTORDER\n",
       "0           1                  53\n",
       "1           2                  94\n",
       "2           3                  53\n",
       "3           4                   5\n",
       "4           5                 130"
      ]
     },
     "execution_count": 12,
     "metadata": {},
     "output_type": "execute_result"
    }
   ],
   "source": [
    "# recency\n",
    "last_purchase = sales_df.groupby('CustomerID')['DAYSSINCELASTORDER'].min()\n",
    "last_purchase = last_purchase.reset_index()\n",
    "last_purchase.head()"
   ]
  },
  {
   "cell_type": "code",
   "execution_count": 13,
   "id": "63f9aa9a",
   "metadata": {},
   "outputs": [
    {
     "data": {
      "text/html": [
       "<div>\n",
       "<style scoped>\n",
       "    .dataframe tbody tr th:only-of-type {\n",
       "        vertical-align: middle;\n",
       "    }\n",
       "\n",
       "    .dataframe tbody tr th {\n",
       "        vertical-align: top;\n",
       "    }\n",
       "\n",
       "    .dataframe thead th {\n",
       "        text-align: right;\n",
       "    }\n",
       "</style>\n",
       "<table border=\"1\" class=\"dataframe\">\n",
       "  <thead>\n",
       "    <tr style=\"text-align: right;\">\n",
       "      <th></th>\n",
       "      <th>CustomerID</th>\n",
       "      <th>monetary</th>\n",
       "      <th>frequency</th>\n",
       "      <th>recency</th>\n",
       "    </tr>\n",
       "  </thead>\n",
       "  <tbody>\n",
       "    <tr>\n",
       "      <th>0</th>\n",
       "      <td>1</td>\n",
       "      <td>34847.40</td>\n",
       "      <td>61</td>\n",
       "      <td>53</td>\n",
       "    </tr>\n",
       "    <tr>\n",
       "      <th>1</th>\n",
       "      <td>2</td>\n",
       "      <td>32486.98</td>\n",
       "      <td>59</td>\n",
       "      <td>94</td>\n",
       "    </tr>\n",
       "    <tr>\n",
       "      <th>2</th>\n",
       "      <td>3</td>\n",
       "      <td>24178.97</td>\n",
       "      <td>53</td>\n",
       "      <td>53</td>\n",
       "    </tr>\n",
       "    <tr>\n",
       "      <th>3</th>\n",
       "      <td>4</td>\n",
       "      <td>18554.49</td>\n",
       "      <td>84</td>\n",
       "      <td>5</td>\n",
       "    </tr>\n",
       "    <tr>\n",
       "      <th>4</th>\n",
       "      <td>5</td>\n",
       "      <td>16884.99</td>\n",
       "      <td>26</td>\n",
       "      <td>130</td>\n",
       "    </tr>\n",
       "  </tbody>\n",
       "</table>\n",
       "</div>"
      ],
      "text/plain": [
       "   CustomerID  monetary  frequency  recency\n",
       "0           1  34847.40         61       53\n",
       "1           2  32486.98         59       94\n",
       "2           3  24178.97         53       53\n",
       "3           4  18554.49         84        5\n",
       "4           5  16884.99         26      130"
      ]
     },
     "execution_count": 13,
     "metadata": {},
     "output_type": "execute_result"
    }
   ],
   "source": [
    "# merge\n",
    "grouped_df = pd.merge(grouped_df, last_purchase, on='CustomerID', how='inner')\n",
    "grouped_df.columns = ['CustomerID', 'monetary', 'frequency', 'recency']\n",
    "grouped_df.head()"
   ]
  },
  {
   "cell_type": "code",
   "execution_count": 14,
   "id": "fae3873e",
   "metadata": {},
   "outputs": [
    {
     "data": {
      "text/html": [
       "<div>\n",
       "<style scoped>\n",
       "    .dataframe tbody tr th:only-of-type {\n",
       "        vertical-align: middle;\n",
       "    }\n",
       "\n",
       "    .dataframe tbody tr th {\n",
       "        vertical-align: top;\n",
       "    }\n",
       "\n",
       "    .dataframe thead th {\n",
       "        text-align: right;\n",
       "    }\n",
       "</style>\n",
       "<table border=\"1\" class=\"dataframe\">\n",
       "  <thead>\n",
       "    <tr style=\"text-align: right;\">\n",
       "      <th></th>\n",
       "      <th>CustomerID</th>\n",
       "      <th>monetary</th>\n",
       "      <th>frequency</th>\n",
       "      <th>recency</th>\n",
       "      <th>r_quartile</th>\n",
       "      <th>f_quartile</th>\n",
       "      <th>m_quartile</th>\n",
       "    </tr>\n",
       "  </thead>\n",
       "  <tbody>\n",
       "    <tr>\n",
       "      <th>0</th>\n",
       "      <td>1</td>\n",
       "      <td>34847.40</td>\n",
       "      <td>61</td>\n",
       "      <td>53</td>\n",
       "      <td>2</td>\n",
       "      <td>1</td>\n",
       "      <td>1</td>\n",
       "    </tr>\n",
       "    <tr>\n",
       "      <th>1</th>\n",
       "      <td>2</td>\n",
       "      <td>32486.98</td>\n",
       "      <td>59</td>\n",
       "      <td>94</td>\n",
       "      <td>3</td>\n",
       "      <td>1</td>\n",
       "      <td>1</td>\n",
       "    </tr>\n",
       "    <tr>\n",
       "      <th>2</th>\n",
       "      <td>3</td>\n",
       "      <td>24178.97</td>\n",
       "      <td>53</td>\n",
       "      <td>53</td>\n",
       "      <td>2</td>\n",
       "      <td>1</td>\n",
       "      <td>1</td>\n",
       "    </tr>\n",
       "    <tr>\n",
       "      <th>3</th>\n",
       "      <td>4</td>\n",
       "      <td>18554.49</td>\n",
       "      <td>84</td>\n",
       "      <td>5</td>\n",
       "      <td>1</td>\n",
       "      <td>1</td>\n",
       "      <td>1</td>\n",
       "    </tr>\n",
       "    <tr>\n",
       "      <th>4</th>\n",
       "      <td>5</td>\n",
       "      <td>16884.99</td>\n",
       "      <td>26</td>\n",
       "      <td>130</td>\n",
       "      <td>3</td>\n",
       "      <td>1</td>\n",
       "      <td>1</td>\n",
       "    </tr>\n",
       "  </tbody>\n",
       "</table>\n",
       "</div>"
      ],
      "text/plain": [
       "   CustomerID  monetary  frequency  recency r_quartile f_quartile m_quartile\n",
       "0           1  34847.40         61       53          2          1          1\n",
       "1           2  32486.98         59       94          3          1          1\n",
       "2           3  24178.97         53       53          2          1          1\n",
       "3           4  18554.49         84        5          1          1          1\n",
       "4           5  16884.99         26      130          3          1          1"
      ]
     },
     "execution_count": 14,
     "metadata": {},
     "output_type": "execute_result"
    }
   ],
   "source": [
    "# creating quartile for rfm\n",
    "grouped_df['r_quartile'] = pd.qcut(grouped_df['recency'], 4, ['1','2','3','4'])\n",
    "grouped_df['f_quartile'] = pd.qcut(grouped_df['frequency'], 4, ['4','3','2','1'])\n",
    "grouped_df['m_quartile'] = pd.qcut(grouped_df['monetary'], 4, ['4','3','2','1'])\n",
    "grouped_df.head()"
   ]
  },
  {
   "cell_type": "code",
   "execution_count": 15,
   "id": "950a2be0",
   "metadata": {},
   "outputs": [
    {
     "data": {
      "text/html": [
       "<div>\n",
       "<style scoped>\n",
       "    .dataframe tbody tr th:only-of-type {\n",
       "        vertical-align: middle;\n",
       "    }\n",
       "\n",
       "    .dataframe tbody tr th {\n",
       "        vertical-align: top;\n",
       "    }\n",
       "\n",
       "    .dataframe thead th {\n",
       "        text-align: right;\n",
       "    }\n",
       "</style>\n",
       "<table border=\"1\" class=\"dataframe\">\n",
       "  <thead>\n",
       "    <tr style=\"text-align: right;\">\n",
       "      <th></th>\n",
       "      <th>CustomerID</th>\n",
       "      <th>monetary</th>\n",
       "      <th>frequency</th>\n",
       "      <th>recency</th>\n",
       "      <th>r_quartile</th>\n",
       "      <th>f_quartile</th>\n",
       "      <th>m_quartile</th>\n",
       "      <th>RFM_Score</th>\n",
       "    </tr>\n",
       "  </thead>\n",
       "  <tbody>\n",
       "    <tr>\n",
       "      <th>0</th>\n",
       "      <td>1</td>\n",
       "      <td>34847.40</td>\n",
       "      <td>61</td>\n",
       "      <td>53</td>\n",
       "      <td>2</td>\n",
       "      <td>1</td>\n",
       "      <td>1</td>\n",
       "      <td>211</td>\n",
       "    </tr>\n",
       "    <tr>\n",
       "      <th>1</th>\n",
       "      <td>2</td>\n",
       "      <td>32486.98</td>\n",
       "      <td>59</td>\n",
       "      <td>94</td>\n",
       "      <td>3</td>\n",
       "      <td>1</td>\n",
       "      <td>1</td>\n",
       "      <td>311</td>\n",
       "    </tr>\n",
       "    <tr>\n",
       "      <th>2</th>\n",
       "      <td>3</td>\n",
       "      <td>24178.97</td>\n",
       "      <td>53</td>\n",
       "      <td>53</td>\n",
       "      <td>2</td>\n",
       "      <td>1</td>\n",
       "      <td>1</td>\n",
       "      <td>211</td>\n",
       "    </tr>\n",
       "    <tr>\n",
       "      <th>3</th>\n",
       "      <td>4</td>\n",
       "      <td>18554.49</td>\n",
       "      <td>84</td>\n",
       "      <td>5</td>\n",
       "      <td>1</td>\n",
       "      <td>1</td>\n",
       "      <td>1</td>\n",
       "      <td>111</td>\n",
       "    </tr>\n",
       "    <tr>\n",
       "      <th>4</th>\n",
       "      <td>5</td>\n",
       "      <td>16884.99</td>\n",
       "      <td>26</td>\n",
       "      <td>130</td>\n",
       "      <td>3</td>\n",
       "      <td>1</td>\n",
       "      <td>1</td>\n",
       "      <td>311</td>\n",
       "    </tr>\n",
       "  </tbody>\n",
       "</table>\n",
       "</div>"
      ],
      "text/plain": [
       "   CustomerID  monetary  frequency  recency r_quartile f_quartile m_quartile  \\\n",
       "0           1  34847.40         61       53          2          1          1   \n",
       "1           2  32486.98         59       94          3          1          1   \n",
       "2           3  24178.97         53       53          2          1          1   \n",
       "3           4  18554.49         84        5          1          1          1   \n",
       "4           5  16884.99         26      130          3          1          1   \n",
       "\n",
       "  RFM_Score  \n",
       "0       211  \n",
       "1       311  \n",
       "2       211  \n",
       "3       111  \n",
       "4       311  "
      ]
     },
     "execution_count": 15,
     "metadata": {},
     "output_type": "execute_result"
    }
   ],
   "source": [
    "#### Combine RFM Quantile score\n",
    "grouped_df['RFM_Score'] = grouped_df.r_quartile.astype(str)+ grouped_df.f_quartile.astype(str) + grouped_df.m_quartile.astype(str)\n",
    "grouped_df.head()"
   ]
  },
  {
   "cell_type": "code",
   "execution_count": 16,
   "id": "aefbe5fc",
   "metadata": {},
   "outputs": [
    {
     "data": {
      "text/html": [
       "<div>\n",
       "<style scoped>\n",
       "    .dataframe tbody tr th:only-of-type {\n",
       "        vertical-align: middle;\n",
       "    }\n",
       "\n",
       "    .dataframe tbody tr th {\n",
       "        vertical-align: top;\n",
       "    }\n",
       "\n",
       "    .dataframe thead th {\n",
       "        text-align: right;\n",
       "    }\n",
       "</style>\n",
       "<table border=\"1\" class=\"dataframe\">\n",
       "  <thead>\n",
       "    <tr style=\"text-align: right;\">\n",
       "      <th></th>\n",
       "      <th>CustomerID</th>\n",
       "      <th>monetary</th>\n",
       "      <th>frequency</th>\n",
       "      <th>recency</th>\n",
       "      <th>r_quartile</th>\n",
       "      <th>f_quartile</th>\n",
       "      <th>m_quartile</th>\n",
       "      <th>RFM_Score</th>\n",
       "    </tr>\n",
       "  </thead>\n",
       "  <tbody>\n",
       "    <tr>\n",
       "      <th>3</th>\n",
       "      <td>4</td>\n",
       "      <td>18554.49</td>\n",
       "      <td>84</td>\n",
       "      <td>5</td>\n",
       "      <td>1</td>\n",
       "      <td>1</td>\n",
       "      <td>1</td>\n",
       "      <td>111</td>\n",
       "    </tr>\n",
       "    <tr>\n",
       "      <th>16</th>\n",
       "      <td>17</td>\n",
       "      <td>12969.98</td>\n",
       "      <td>36</td>\n",
       "      <td>6</td>\n",
       "      <td>1</td>\n",
       "      <td>1</td>\n",
       "      <td>1</td>\n",
       "      <td>111</td>\n",
       "    </tr>\n",
       "    <tr>\n",
       "      <th>21</th>\n",
       "      <td>22</td>\n",
       "      <td>11986.54</td>\n",
       "      <td>124</td>\n",
       "      <td>1</td>\n",
       "      <td>1</td>\n",
       "      <td>1</td>\n",
       "      <td>1</td>\n",
       "      <td>111</td>\n",
       "    </tr>\n",
       "    <tr>\n",
       "      <th>28</th>\n",
       "      <td>29</td>\n",
       "      <td>11025.96</td>\n",
       "      <td>82</td>\n",
       "      <td>1</td>\n",
       "      <td>1</td>\n",
       "      <td>1</td>\n",
       "      <td>1</td>\n",
       "      <td>111</td>\n",
       "    </tr>\n",
       "    <tr>\n",
       "      <th>34</th>\n",
       "      <td>35</td>\n",
       "      <td>9685.37</td>\n",
       "      <td>32</td>\n",
       "      <td>5</td>\n",
       "      <td>1</td>\n",
       "      <td>1</td>\n",
       "      <td>1</td>\n",
       "      <td>111</td>\n",
       "    </tr>\n",
       "  </tbody>\n",
       "</table>\n",
       "</div>"
      ],
      "text/plain": [
       "    CustomerID  monetary  frequency  recency r_quartile f_quartile m_quartile  \\\n",
       "3            4  18554.49         84        5          1          1          1   \n",
       "16          17  12969.98         36        6          1          1          1   \n",
       "21          22  11986.54        124        1          1          1          1   \n",
       "28          29  11025.96         82        1          1          1          1   \n",
       "34          35   9685.37         32        5          1          1          1   \n",
       "\n",
       "   RFM_Score  \n",
       "3        111  \n",
       "16       111  \n",
       "21       111  \n",
       "28       111  \n",
       "34       111  "
      ]
     },
     "execution_count": 16,
     "metadata": {},
     "output_type": "execute_result"
    }
   ],
   "source": [
    "# Filter out Top/Best customers as (111)\n",
    "grouped_df[grouped_df['RFM_Score']=='111'].sort_values('monetary', ascending=False).head()"
   ]
  },
  {
   "cell_type": "code",
   "execution_count": 17,
   "id": "2e93977f",
   "metadata": {},
   "outputs": [
    {
     "data": {
      "text/plain": [
       "(5000, 3)"
      ]
     },
     "execution_count": 17,
     "metadata": {},
     "output_type": "execute_result"
    }
   ],
   "source": [
    "# rescaling\n",
    "rfm_df = grouped_df[['r_quartile', 'f_quartile', 'm_quartile']]\n",
    "\n",
    "# instantiate\n",
    "scaler = StandardScaler()\n",
    "\n",
    "# fit_transform\n",
    "rfm_df_scaled = scaler.fit_transform(rfm_df)\n",
    "rfm_df_scaled.shape"
   ]
  },
  {
   "cell_type": "code",
   "execution_count": 18,
   "id": "af58d5b5",
   "metadata": {},
   "outputs": [
    {
     "data": {
      "text/html": [
       "<div>\n",
       "<style scoped>\n",
       "    .dataframe tbody tr th:only-of-type {\n",
       "        vertical-align: middle;\n",
       "    }\n",
       "\n",
       "    .dataframe tbody tr th {\n",
       "        vertical-align: top;\n",
       "    }\n",
       "\n",
       "    .dataframe thead th {\n",
       "        text-align: right;\n",
       "    }\n",
       "</style>\n",
       "<table border=\"1\" class=\"dataframe\">\n",
       "  <thead>\n",
       "    <tr style=\"text-align: right;\">\n",
       "      <th></th>\n",
       "      <th>r_quartile</th>\n",
       "      <th>f_quartile</th>\n",
       "      <th>m_quartile</th>\n",
       "    </tr>\n",
       "  </thead>\n",
       "  <tbody>\n",
       "    <tr>\n",
       "      <th>0</th>\n",
       "      <td>-0.438219</td>\n",
       "      <td>-1.381129</td>\n",
       "      <td>-1.341641</td>\n",
       "    </tr>\n",
       "    <tr>\n",
       "      <th>1</th>\n",
       "      <td>0.452108</td>\n",
       "      <td>-1.381129</td>\n",
       "      <td>-1.341641</td>\n",
       "    </tr>\n",
       "    <tr>\n",
       "      <th>2</th>\n",
       "      <td>-0.438219</td>\n",
       "      <td>-1.381129</td>\n",
       "      <td>-1.341641</td>\n",
       "    </tr>\n",
       "    <tr>\n",
       "      <th>3</th>\n",
       "      <td>-1.328546</td>\n",
       "      <td>-1.381129</td>\n",
       "      <td>-1.341641</td>\n",
       "    </tr>\n",
       "    <tr>\n",
       "      <th>4</th>\n",
       "      <td>0.452108</td>\n",
       "      <td>-1.381129</td>\n",
       "      <td>-1.341641</td>\n",
       "    </tr>\n",
       "  </tbody>\n",
       "</table>\n",
       "</div>"
      ],
      "text/plain": [
       "   r_quartile  f_quartile  m_quartile\n",
       "0   -0.438219   -1.381129   -1.341641\n",
       "1    0.452108   -1.381129   -1.341641\n",
       "2   -0.438219   -1.381129   -1.341641\n",
       "3   -1.328546   -1.381129   -1.341641\n",
       "4    0.452108   -1.381129   -1.341641"
      ]
     },
     "execution_count": 18,
     "metadata": {},
     "output_type": "execute_result"
    }
   ],
   "source": [
    "# creating rfm_rescaled data frame\n",
    "rfm_df_scaled = pd.DataFrame(rfm_df_scaled)\n",
    "rfm_df_scaled.columns = ['r_quartile', 'f_quartile', 'm_quartile']\n",
    "rfm_df_scaled.head()"
   ]
  },
  {
   "cell_type": "code",
   "execution_count": 19,
   "id": "c56662d1",
   "metadata": {},
   "outputs": [
    {
     "data": {
      "text/plain": [
       "KMeans(max_iter=50, n_clusters=3)"
      ]
     },
     "execution_count": 19,
     "metadata": {},
     "output_type": "execute_result"
    }
   ],
   "source": [
    "# k-means with some arbitrary k\n",
    "kmeans = KMeans(n_clusters=3, max_iter=50)\n",
    "kmeans.fit(rfm_df_scaled)"
   ]
  },
  {
   "cell_type": "code",
   "execution_count": 20,
   "id": "47db83ff",
   "metadata": {},
   "outputs": [
    {
     "data": {
      "text/plain": [
       "array([0, 0, 0, ..., 1, 1, 2])"
      ]
     },
     "execution_count": 20,
     "metadata": {},
     "output_type": "execute_result"
    }
   ],
   "source": [
    "kmeans.labels_"
   ]
  },
  {
   "cell_type": "code",
   "execution_count": 21,
   "id": "633d2349",
   "metadata": {},
   "outputs": [
    {
     "data": {
      "text/plain": [
       "[<matplotlib.lines.Line2D at 0x22f63e0e850>]"
      ]
     },
     "execution_count": 21,
     "metadata": {},
     "output_type": "execute_result"
    },
    {
     "data": {
      "image/png": "[encoded data removed]",
      "text/plain": [
       "<Figure size 432x288 with 1 Axes>"
      ]
     },
     "metadata": {
      "needs_background": "light"
     },
     "output_type": "display_data"
    }
   ],
   "source": [
    "# elbow-curve\n",
    "ssd = []\n",
    "range_n_clusters = [2, 3, 4, 5, 6, 7, 8]\n",
    "for num_clusters in range_n_clusters:\n",
    "    kmeans = KMeans(n_clusters=num_clusters, max_iter=50)\n",
    "    kmeans.fit(rfm_df_scaled)\n",
    "    \n",
    "    ssd.append(kmeans.inertia_)\n",
    "    \n",
    "# plot the SSDs for each n_clusters\n",
    "# ssd\n",
    "plt.plot(ssd)"
   ]
  },
  {
   "cell_type": "code",
   "execution_count": 22,
   "id": "5ff38983",
   "metadata": {},
   "outputs": [],
   "source": [
    "# observation: the elbow at k=3 the curve is high so k is takes as 3"
   ]
  },
  {
   "cell_type": "code",
   "execution_count": 23,
   "id": "4f16ea58",
   "metadata": {},
   "outputs": [
    {
     "name": "stdout",
     "output_type": "stream",
     "text": [
      "For n_clusters=2, the silhouette score is 0.46059402951823303\n",
      "For n_clusters=3, the silhouette score is 0.5281887949936963\n",
      "For n_clusters=4, the silhouette score is 0.46780622925547793\n",
      "For n_clusters=5, the silhouette score is 0.4593615129018573\n",
      "For n_clusters=6, the silhouette score is 0.45936272606447276\n",
      "For n_clusters=7, the silhouette score is 0.46939655845647266\n",
      "For n_clusters=8, the silhouette score is 0.4716263416834361\n"
     ]
    }
   ],
   "source": [
    "\n",
    "# silhouette analysis\n",
    "range_n_clusters = [2, 3, 4, 5, 6, 7, 8]\n",
    "\n",
    "for num_clusters in range_n_clusters:\n",
    "    \n",
    "    # intialise kmeans\n",
    "    kmeans = KMeans(n_clusters=num_clusters, max_iter=500)\n",
    "    kmeans.fit(rfm_df_scaled)\n",
    "    \n",
    "    cluster_labels = kmeans.labels_\n",
    "    \n",
    "    # silhouette score\n",
    "    silhouette_avg = silhouette_score(rfm_df_scaled, cluster_labels)\n",
    "    print(\"For n_clusters={0}, the silhouette score is {1}\".format(num_clusters, silhouette_avg))"
   ]
  },
  {
   "cell_type": "code",
   "execution_count": 24,
   "id": "09e6015f",
   "metadata": {},
   "outputs": [
    {
     "data": {
      "text/plain": [
       "KMeans(max_iter=500, n_clusters=3)"
      ]
     },
     "execution_count": 24,
     "metadata": {},
     "output_type": "execute_result"
    }
   ],
   "source": [
    "# final model with k=3\n",
    "kmeans = KMeans(n_clusters=3, max_iter=500)\n",
    "kmeans.fit(rfm_df_scaled)"
   ]
  },
  {
   "cell_type": "code",
   "execution_count": 25,
   "id": "df206b05",
   "metadata": {},
   "outputs": [
    {
     "data": {
      "text/plain": [
       "array([1, 1, 1, ..., 2, 2, 0])"
      ]
     },
     "execution_count": 25,
     "metadata": {},
     "output_type": "execute_result"
    }
   ],
   "source": [
    "kmeans.labels_"
   ]
  },
  {
   "cell_type": "code",
   "execution_count": 26,
   "id": "7155b11e",
   "metadata": {},
   "outputs": [
    {
     "data": {
      "text/html": [
       "<div>\n",
       "<style scoped>\n",
       "    .dataframe tbody tr th:only-of-type {\n",
       "        vertical-align: middle;\n",
       "    }\n",
       "\n",
       "    .dataframe tbody tr th {\n",
       "        vertical-align: top;\n",
       "    }\n",
       "\n",
       "    .dataframe thead th {\n",
       "        text-align: right;\n",
       "    }\n",
       "</style>\n",
       "<table border=\"1\" class=\"dataframe\">\n",
       "  <thead>\n",
       "    <tr style=\"text-align: right;\">\n",
       "      <th></th>\n",
       "      <th>CustomerID</th>\n",
       "      <th>monetary</th>\n",
       "      <th>frequency</th>\n",
       "      <th>recency</th>\n",
       "      <th>r_quartile</th>\n",
       "      <th>f_quartile</th>\n",
       "      <th>m_quartile</th>\n",
       "      <th>RFM_Score</th>\n",
       "      <th>cluster_id</th>\n",
       "    </tr>\n",
       "  </thead>\n",
       "  <tbody>\n",
       "    <tr>\n",
       "      <th>0</th>\n",
       "      <td>1</td>\n",
       "      <td>34847.40</td>\n",
       "      <td>61</td>\n",
       "      <td>53</td>\n",
       "      <td>2</td>\n",
       "      <td>1</td>\n",
       "      <td>1</td>\n",
       "      <td>211</td>\n",
       "      <td>1</td>\n",
       "    </tr>\n",
       "    <tr>\n",
       "      <th>1</th>\n",
       "      <td>2</td>\n",
       "      <td>32486.98</td>\n",
       "      <td>59</td>\n",
       "      <td>94</td>\n",
       "      <td>3</td>\n",
       "      <td>1</td>\n",
       "      <td>1</td>\n",
       "      <td>311</td>\n",
       "      <td>1</td>\n",
       "    </tr>\n",
       "    <tr>\n",
       "      <th>2</th>\n",
       "      <td>3</td>\n",
       "      <td>24178.97</td>\n",
       "      <td>53</td>\n",
       "      <td>53</td>\n",
       "      <td>2</td>\n",
       "      <td>1</td>\n",
       "      <td>1</td>\n",
       "      <td>211</td>\n",
       "      <td>1</td>\n",
       "    </tr>\n",
       "    <tr>\n",
       "      <th>3</th>\n",
       "      <td>4</td>\n",
       "      <td>18554.49</td>\n",
       "      <td>84</td>\n",
       "      <td>5</td>\n",
       "      <td>1</td>\n",
       "      <td>1</td>\n",
       "      <td>1</td>\n",
       "      <td>111</td>\n",
       "      <td>1</td>\n",
       "    </tr>\n",
       "    <tr>\n",
       "      <th>4</th>\n",
       "      <td>5</td>\n",
       "      <td>16884.99</td>\n",
       "      <td>26</td>\n",
       "      <td>130</td>\n",
       "      <td>3</td>\n",
       "      <td>1</td>\n",
       "      <td>1</td>\n",
       "      <td>311</td>\n",
       "      <td>1</td>\n",
       "    </tr>\n",
       "  </tbody>\n",
       "</table>\n",
       "</div>"
      ],
      "text/plain": [
       "   CustomerID  monetary  frequency  recency r_quartile f_quartile m_quartile  \\\n",
       "0           1  34847.40         61       53          2          1          1   \n",
       "1           2  32486.98         59       94          3          1          1   \n",
       "2           3  24178.97         53       53          2          1          1   \n",
       "3           4  18554.49         84        5          1          1          1   \n",
       "4           5  16884.99         26      130          3          1          1   \n",
       "\n",
       "  RFM_Score  cluster_id  \n",
       "0       211           1  \n",
       "1       311           1  \n",
       "2       211           1  \n",
       "3       111           1  \n",
       "4       311           1  "
      ]
     },
     "execution_count": 26,
     "metadata": {},
     "output_type": "execute_result"
    }
   ],
   "source": [
    "# assign the label\n",
    "grouped_df['cluster_id'] = kmeans.labels_\n",
    "grouped_df.head()"
   ]
  },
  {
   "cell_type": "code",
   "execution_count": 27,
   "id": "d8c67c09",
   "metadata": {},
   "outputs": [],
   "source": [
    "# creating feature rfm_score 1\n",
    "grouped_df['RFM_Score1'] = grouped_df[['r_quartile','f_quartile','m_quartile']].sum(axis=1)"
   ]
  },
  {
   "cell_type": "code",
   "execution_count": 28,
   "id": "e372c509",
   "metadata": {},
   "outputs": [
    {
     "name": "stdout",
     "output_type": "stream",
     "text": [
      "0    211.0\n",
      "1    311.0\n",
      "2    211.0\n",
      "3    111.0\n",
      "4    311.0\n",
      "Name: RFM_Score1, dtype: float64\n"
     ]
    }
   ],
   "source": [
    "# printing rfm_score 1\n",
    "print(grouped_df['RFM_Score1'].head())\n"
   ]
  },
  {
   "cell_type": "code",
   "execution_count": 29,
   "id": "d20e6a84",
   "metadata": {},
   "outputs": [],
   "source": [
    "grouped_df['RFM_Score1'] = grouped_df['r_quartile'].value_counts() + grouped_df['f_quartile'].value_counts()+ grouped_df['m_quartile'].value_counts()"
   ]
  },
  {
   "cell_type": "code",
   "execution_count": 30,
   "id": "25d8dce4",
   "metadata": {},
   "outputs": [
    {
     "data": {
      "text/html": [
       "<div>\n",
       "<style scoped>\n",
       "    .dataframe tbody tr th:only-of-type {\n",
       "        vertical-align: middle;\n",
       "    }\n",
       "\n",
       "    .dataframe tbody tr th {\n",
       "        vertical-align: top;\n",
       "    }\n",
       "\n",
       "    .dataframe thead th {\n",
       "        text-align: right;\n",
       "    }\n",
       "</style>\n",
       "<table border=\"1\" class=\"dataframe\">\n",
       "  <thead>\n",
       "    <tr style=\"text-align: right;\">\n",
       "      <th></th>\n",
       "      <th>CustomerID</th>\n",
       "      <th>monetary</th>\n",
       "      <th>frequency</th>\n",
       "      <th>recency</th>\n",
       "      <th>r_quartile</th>\n",
       "      <th>f_quartile</th>\n",
       "      <th>m_quartile</th>\n",
       "      <th>RFM_Score</th>\n",
       "      <th>cluster_id</th>\n",
       "      <th>RFM_Score1</th>\n",
       "    </tr>\n",
       "  </thead>\n",
       "  <tbody>\n",
       "    <tr>\n",
       "      <th>3</th>\n",
       "      <td>4</td>\n",
       "      <td>18554.49</td>\n",
       "      <td>84</td>\n",
       "      <td>5</td>\n",
       "      <td>1</td>\n",
       "      <td>1</td>\n",
       "      <td>1</td>\n",
       "      <td>111</td>\n",
       "      <td>1</td>\n",
       "      <td>NaN</td>\n",
       "    </tr>\n",
       "    <tr>\n",
       "      <th>16</th>\n",
       "      <td>17</td>\n",
       "      <td>12969.98</td>\n",
       "      <td>36</td>\n",
       "      <td>6</td>\n",
       "      <td>1</td>\n",
       "      <td>1</td>\n",
       "      <td>1</td>\n",
       "      <td>111</td>\n",
       "      <td>1</td>\n",
       "      <td>NaN</td>\n",
       "    </tr>\n",
       "    <tr>\n",
       "      <th>21</th>\n",
       "      <td>22</td>\n",
       "      <td>11986.54</td>\n",
       "      <td>124</td>\n",
       "      <td>1</td>\n",
       "      <td>1</td>\n",
       "      <td>1</td>\n",
       "      <td>1</td>\n",
       "      <td>111</td>\n",
       "      <td>1</td>\n",
       "      <td>NaN</td>\n",
       "    </tr>\n",
       "    <tr>\n",
       "      <th>28</th>\n",
       "      <td>29</td>\n",
       "      <td>11025.96</td>\n",
       "      <td>82</td>\n",
       "      <td>1</td>\n",
       "      <td>1</td>\n",
       "      <td>1</td>\n",
       "      <td>1</td>\n",
       "      <td>111</td>\n",
       "      <td>1</td>\n",
       "      <td>NaN</td>\n",
       "    </tr>\n",
       "    <tr>\n",
       "      <th>34</th>\n",
       "      <td>35</td>\n",
       "      <td>9685.37</td>\n",
       "      <td>32</td>\n",
       "      <td>5</td>\n",
       "      <td>1</td>\n",
       "      <td>1</td>\n",
       "      <td>1</td>\n",
       "      <td>111</td>\n",
       "      <td>1</td>\n",
       "      <td>NaN</td>\n",
       "    </tr>\n",
       "    <tr>\n",
       "      <th>35</th>\n",
       "      <td>36</td>\n",
       "      <td>9516.90</td>\n",
       "      <td>42</td>\n",
       "      <td>7</td>\n",
       "      <td>1</td>\n",
       "      <td>1</td>\n",
       "      <td>1</td>\n",
       "      <td>111</td>\n",
       "      <td>1</td>\n",
       "      <td>NaN</td>\n",
       "    </tr>\n",
       "    <tr>\n",
       "      <th>39</th>\n",
       "      <td>40</td>\n",
       "      <td>9099.36</td>\n",
       "      <td>26</td>\n",
       "      <td>6</td>\n",
       "      <td>1</td>\n",
       "      <td>1</td>\n",
       "      <td>1</td>\n",
       "      <td>111</td>\n",
       "      <td>1</td>\n",
       "      <td>NaN</td>\n",
       "    </tr>\n",
       "    <tr>\n",
       "      <th>40</th>\n",
       "      <td>41</td>\n",
       "      <td>9006.15</td>\n",
       "      <td>44</td>\n",
       "      <td>2</td>\n",
       "      <td>1</td>\n",
       "      <td>1</td>\n",
       "      <td>1</td>\n",
       "      <td>111</td>\n",
       "      <td>1</td>\n",
       "      <td>NaN</td>\n",
       "    </tr>\n",
       "    <tr>\n",
       "      <th>45</th>\n",
       "      <td>46</td>\n",
       "      <td>8854.30</td>\n",
       "      <td>43</td>\n",
       "      <td>6</td>\n",
       "      <td>1</td>\n",
       "      <td>1</td>\n",
       "      <td>1</td>\n",
       "      <td>111</td>\n",
       "      <td>1</td>\n",
       "      <td>NaN</td>\n",
       "    </tr>\n",
       "    <tr>\n",
       "      <th>47</th>\n",
       "      <td>48</td>\n",
       "      <td>8774.63</td>\n",
       "      <td>107</td>\n",
       "      <td>6</td>\n",
       "      <td>1</td>\n",
       "      <td>1</td>\n",
       "      <td>1</td>\n",
       "      <td>111</td>\n",
       "      <td>1</td>\n",
       "      <td>NaN</td>\n",
       "    </tr>\n",
       "  </tbody>\n",
       "</table>\n",
       "</div>"
      ],
      "text/plain": [
       "    CustomerID  monetary  frequency  recency r_quartile f_quartile m_quartile  \\\n",
       "3            4  18554.49         84        5          1          1          1   \n",
       "16          17  12969.98         36        6          1          1          1   \n",
       "21          22  11986.54        124        1          1          1          1   \n",
       "28          29  11025.96         82        1          1          1          1   \n",
       "34          35   9685.37         32        5          1          1          1   \n",
       "35          36   9516.90         42        7          1          1          1   \n",
       "39          40   9099.36         26        6          1          1          1   \n",
       "40          41   9006.15         44        2          1          1          1   \n",
       "45          46   8854.30         43        6          1          1          1   \n",
       "47          48   8774.63        107        6          1          1          1   \n",
       "\n",
       "   RFM_Score  cluster_id  RFM_Score1  \n",
       "3        111           1         NaN  \n",
       "16       111           1         NaN  \n",
       "21       111           1         NaN  \n",
       "28       111           1         NaN  \n",
       "34       111           1         NaN  \n",
       "35       111           1         NaN  \n",
       "39       111           1         NaN  \n",
       "40       111           1         NaN  \n",
       "45       111           1         NaN  \n",
       "47       111           1         NaN  "
      ]
     },
     "execution_count": 30,
     "metadata": {},
     "output_type": "execute_result"
    }
   ],
   "source": [
    "grouped_df[grouped_df['RFM_Score']=='111'].sort_values('monetary', ascending=False).head(10)\n"
   ]
  },
  {
   "cell_type": "code",
   "execution_count": 31,
   "id": "52d4416a",
   "metadata": {},
   "outputs": [],
   "source": [
    "# labelling the label\n",
    "grouped_df[\"cluster\"] = kmeans.labels_"
   ]
  },
  {
   "cell_type": "code",
   "execution_count": 32,
   "id": "04ea4492",
   "metadata": {},
   "outputs": [
    {
     "data": {
      "text/html": [
       "<div>\n",
       "<style scoped>\n",
       "    .dataframe tbody tr th:only-of-type {\n",
       "        vertical-align: middle;\n",
       "    }\n",
       "\n",
       "    .dataframe tbody tr th {\n",
       "        vertical-align: top;\n",
       "    }\n",
       "\n",
       "    .dataframe thead tr th {\n",
       "        text-align: left;\n",
       "    }\n",
       "\n",
       "    .dataframe thead tr:last-of-type th {\n",
       "        text-align: right;\n",
       "    }\n",
       "</style>\n",
       "<table border=\"1\" class=\"dataframe\">\n",
       "  <thead>\n",
       "    <tr>\n",
       "      <th></th>\n",
       "      <th>recency</th>\n",
       "      <th>frequency</th>\n",
       "      <th colspan=\"2\" halign=\"left\">monetary</th>\n",
       "    </tr>\n",
       "    <tr>\n",
       "      <th></th>\n",
       "      <th>mean</th>\n",
       "      <th>mean</th>\n",
       "      <th>mean</th>\n",
       "      <th>count</th>\n",
       "    </tr>\n",
       "    <tr>\n",
       "      <th>cluster</th>\n",
       "      <th></th>\n",
       "      <th></th>\n",
       "      <th></th>\n",
       "      <th></th>\n",
       "    </tr>\n",
       "  </thead>\n",
       "  <tbody>\n",
       "    <tr>\n",
       "      <th>0</th>\n",
       "      <td>6.33</td>\n",
       "      <td>4.07</td>\n",
       "      <td>471.02</td>\n",
       "      <td>1074</td>\n",
       "    </tr>\n",
       "    <tr>\n",
       "      <th>1</th>\n",
       "      <td>66.73</td>\n",
       "      <td>22.06</td>\n",
       "      <td>2964.87</td>\n",
       "      <td>2497</td>\n",
       "    </tr>\n",
       "    <tr>\n",
       "      <th>2</th>\n",
       "      <td>184.52</td>\n",
       "      <td>3.43</td>\n",
       "      <td>348.82</td>\n",
       "      <td>1429</td>\n",
       "    </tr>\n",
       "  </tbody>\n",
       "</table>\n",
       "</div>"
      ],
      "text/plain": [
       "        recency frequency monetary      \n",
       "           mean      mean     mean count\n",
       "cluster                                 \n",
       "0          6.33      4.07   471.02  1074\n",
       "1         66.73     22.06  2964.87  2497\n",
       "2        184.52      3.43   348.82  1429"
      ]
     },
     "execution_count": 32,
     "metadata": {},
     "output_type": "execute_result"
    }
   ],
   "source": [
    "# aggregate values\n",
    "grouped_df.groupby('cluster').agg({'recency':'mean','frequency':'mean','monetary':['mean', 'count']}).round(2)\n"
   ]
  },
  {
   "cell_type": "code",
   "execution_count": 33,
   "id": "e8ebfdbf",
   "metadata": {},
   "outputs": [],
   "source": [
    "#-- obserrvation  the above table represnts the mean of the rfm\n",
    "# mean of recency with respect to cluster id-0 ,1,2 = 66.73,184.52,6.33 respectively\n",
    "# mean of grequency with respect to cluster id-0 ,1,2 = 22.06,3.43,4.07 respectively\n",
    "# mean of mean with respect to cluster id-0 ,1,2 = 2964.87,348.82,471.02 respectively"
   ]
  },
  {
   "cell_type": "code",
   "execution_count": 34,
   "id": "d07ff50f",
   "metadata": {},
   "outputs": [],
   "source": [
    "# observation:\n",
    "# the count of cluster 0 = 2497\n",
    "# the count of cluster 1 = 1429\n",
    "# the count of cluster 2 = 1074"
   ]
  },
  {
   "cell_type": "code",
   "execution_count": 35,
   "id": "1e5e0157",
   "metadata": {},
   "outputs": [
    {
     "data": {
      "text/plain": [
       "<AxesSubplot:xlabel='cluster', ylabel='monetary'>"
      ]
     },
     "execution_count": 35,
     "metadata": {},
     "output_type": "execute_result"
    },
    {
     "data": {
      "image/png": "[encoded data removed]",
      "text/plain": [
       "<Figure size 432x288 with 1 Axes>"
      ]
     },
     "metadata": {
      "needs_background": "light"
     },
     "output_type": "display_data"
    }
   ],
   "source": [
    "# boxplot for cluster vs monetary\n",
    "sns.boxplot(x='cluster', y='monetary', data=grouped_df)"
   ]
  },
  {
   "cell_type": "code",
   "execution_count": 36,
   "id": "188e8e1e",
   "metadata": {},
   "outputs": [],
   "source": [
    "# observation: the above plot is overlapping to each other "
   ]
  },
  {
   "cell_type": "code",
   "execution_count": 37,
   "id": "7d02f0e6",
   "metadata": {},
   "outputs": [
    {
     "data": {
      "text/plain": [
       "<AxesSubplot:xlabel='cluster', ylabel='frequency'>"
      ]
     },
     "execution_count": 37,
     "metadata": {},
     "output_type": "execute_result"
    },
    {
     "data": {
      "image/png": "[encoded data removed]",
      "text/plain": [
       "<Figure size 432x288 with 1 Axes>"
      ]
     },
     "metadata": {
      "needs_background": "light"
     },
     "output_type": "display_data"
    }
   ],
   "source": [
    "# boxplot for cluster vs frequency\n",
    "sns.boxplot(x='cluster', y='frequency', data=grouped_df)"
   ]
  },
  {
   "cell_type": "code",
   "execution_count": 38,
   "id": "4cc2314b",
   "metadata": {},
   "outputs": [
    {
     "data": {
      "text/plain": [
       "<AxesSubplot:xlabel='cluster', ylabel='recency'>"
      ]
     },
     "execution_count": 38,
     "metadata": {},
     "output_type": "execute_result"
    },
    {
     "data": {
      "image/png": "[encoded data removed]",
      "text/plain": [
       "<Figure size 432x288 with 1 Axes>"
      ]
     },
     "metadata": {
      "needs_background": "light"
     },
     "output_type": "display_data"
    }
   ],
   "source": [
    "# boxplot for cluster vs recency\n",
    "sns.boxplot(x='cluster', y='recency', data=grouped_df)"
   ]
  },
  {
   "cell_type": "code",
   "execution_count": 39,
   "id": "400f342e",
   "metadata": {},
   "outputs": [
    {
     "data": {
      "text/html": [
       "<div>\n",
       "<style scoped>\n",
       "    .dataframe tbody tr th:only-of-type {\n",
       "        vertical-align: middle;\n",
       "    }\n",
       "\n",
       "    .dataframe tbody tr th {\n",
       "        vertical-align: top;\n",
       "    }\n",
       "\n",
       "    .dataframe thead th {\n",
       "        text-align: right;\n",
       "    }\n",
       "</style>\n",
       "<table border=\"1\" class=\"dataframe\">\n",
       "  <thead>\n",
       "    <tr style=\"text-align: right;\">\n",
       "      <th></th>\n",
       "      <th>CustomerID</th>\n",
       "      <th>monetary</th>\n",
       "      <th>frequency</th>\n",
       "      <th>recency</th>\n",
       "      <th>cluster_id</th>\n",
       "      <th>RFM_Score1</th>\n",
       "      <th>cluster</th>\n",
       "    </tr>\n",
       "  </thead>\n",
       "  <tbody>\n",
       "    <tr>\n",
       "      <th>count</th>\n",
       "      <td>5000.000000</td>\n",
       "      <td>5000.000000</td>\n",
       "      <td>5000.00000</td>\n",
       "      <td>5000.000000</td>\n",
       "      <td>5000.00000</td>\n",
       "      <td>0.0</td>\n",
       "      <td>5000.00000</td>\n",
       "    </tr>\n",
       "    <tr>\n",
       "      <th>mean</th>\n",
       "      <td>40709.227800</td>\n",
       "      <td>1681.523840</td>\n",
       "      <td>12.87040</td>\n",
       "      <td>87.420000</td>\n",
       "      <td>1.07100</td>\n",
       "      <td>NaN</td>\n",
       "      <td>1.07100</td>\n",
       "    </tr>\n",
       "    <tr>\n",
       "      <th>std</th>\n",
       "      <td>49949.848017</td>\n",
       "      <td>1998.618678</td>\n",
       "      <td>12.67988</td>\n",
       "      <td>80.156513</td>\n",
       "      <td>0.70403</td>\n",
       "      <td>NaN</td>\n",
       "      <td>0.70403</td>\n",
       "    </tr>\n",
       "    <tr>\n",
       "      <th>min</th>\n",
       "      <td>1.000000</td>\n",
       "      <td>38.500000</td>\n",
       "      <td>1.00000</td>\n",
       "      <td>1.000000</td>\n",
       "      <td>0.00000</td>\n",
       "      <td>NaN</td>\n",
       "      <td>0.00000</td>\n",
       "    </tr>\n",
       "    <tr>\n",
       "      <th>25%</th>\n",
       "      <td>1687.500000</td>\n",
       "      <td>315.097500</td>\n",
       "      <td>3.00000</td>\n",
       "      <td>7.000000</td>\n",
       "      <td>1.00000</td>\n",
       "      <td>NaN</td>\n",
       "      <td>1.00000</td>\n",
       "    </tr>\n",
       "    <tr>\n",
       "      <th>50%</th>\n",
       "      <td>13765.000000</td>\n",
       "      <td>966.725000</td>\n",
       "      <td>8.00000</td>\n",
       "      <td>68.000000</td>\n",
       "      <td>1.00000</td>\n",
       "      <td>NaN</td>\n",
       "      <td>1.00000</td>\n",
       "    </tr>\n",
       "    <tr>\n",
       "      <th>75%</th>\n",
       "      <td>71891.500000</td>\n",
       "      <td>2493.072500</td>\n",
       "      <td>20.00000</td>\n",
       "      <td>171.250000</td>\n",
       "      <td>2.00000</td>\n",
       "      <td>NaN</td>\n",
       "      <td>2.00000</td>\n",
       "    </tr>\n",
       "    <tr>\n",
       "      <th>max</th>\n",
       "      <td>277160.000000</td>\n",
       "      <td>34847.400000</td>\n",
       "      <td>156.00000</td>\n",
       "      <td>207.000000</td>\n",
       "      <td>2.00000</td>\n",
       "      <td>NaN</td>\n",
       "      <td>2.00000</td>\n",
       "    </tr>\n",
       "  </tbody>\n",
       "</table>\n",
       "</div>"
      ],
      "text/plain": [
       "          CustomerID      monetary   frequency      recency  cluster_id  \\\n",
       "count    5000.000000   5000.000000  5000.00000  5000.000000  5000.00000   \n",
       "mean    40709.227800   1681.523840    12.87040    87.420000     1.07100   \n",
       "std     49949.848017   1998.618678    12.67988    80.156513     0.70403   \n",
       "min         1.000000     38.500000     1.00000     1.000000     0.00000   \n",
       "25%      1687.500000    315.097500     3.00000     7.000000     1.00000   \n",
       "50%     13765.000000    966.725000     8.00000    68.000000     1.00000   \n",
       "75%     71891.500000   2493.072500    20.00000   171.250000     2.00000   \n",
       "max    277160.000000  34847.400000   156.00000   207.000000     2.00000   \n",
       "\n",
       "       RFM_Score1     cluster  \n",
       "count         0.0  5000.00000  \n",
       "mean          NaN     1.07100  \n",
       "std           NaN     0.70403  \n",
       "min           NaN     0.00000  \n",
       "25%           NaN     1.00000  \n",
       "50%           NaN     1.00000  \n",
       "75%           NaN     2.00000  \n",
       "max           NaN     2.00000  "
      ]
     },
     "execution_count": 39,
     "metadata": {},
     "output_type": "execute_result"
    }
   ],
   "source": [
    "grouped_df.describe()"
   ]
  },
  {
   "cell_type": "code",
   "execution_count": 40,
   "id": "674a961c",
   "metadata": {},
   "outputs": [
    {
     "data": {
      "text/plain": [
       "{'whiskers': [<matplotlib.lines.Line2D at 0x22f63c8e5b0>,\n",
       "  <matplotlib.lines.Line2D at 0x22f63c8e940>],\n",
       " 'caps': [<matplotlib.lines.Line2D at 0x22f63c8ecd0>,\n",
       "  <matplotlib.lines.Line2D at 0x22f63c990a0>],\n",
       " 'boxes': [<matplotlib.lines.Line2D at 0x22f63c8e1f0>],\n",
       " 'medians': [<matplotlib.lines.Line2D at 0x22f63c99430>],\n",
       " 'fliers': [<matplotlib.lines.Line2D at 0x22f63c997c0>],\n",
       " 'means': []}"
      ]
     },
     "execution_count": 40,
     "metadata": {},
     "output_type": "execute_result"
    },
    {
     "data": {
      "image/png": "[encoded data removed]",
      "text/plain": [
       "<Figure size 432x288 with 1 Axes>"
      ]
     },
     "metadata": {
      "needs_background": "light"
     },
     "output_type": "display_data"
    }
   ],
   "source": [
    "# boxplot to check the outliers\n",
    "plt.boxplot(grouped_df['recency'])"
   ]
  },
  {
   "cell_type": "code",
   "execution_count": 41,
   "id": "d6f7b34c",
   "metadata": {},
   "outputs": [
    {
     "data": {
      "text/plain": [
       "{'whiskers': [<matplotlib.lines.Line2D at 0x22f63a8ed00>,\n",
       "  <matplotlib.lines.Line2D at 0x22f63bfa0d0>],\n",
       " 'caps': [<matplotlib.lines.Line2D at 0x22f63bfa460>,\n",
       "  <matplotlib.lines.Line2D at 0x22f63bfa7f0>],\n",
       " 'boxes': [<matplotlib.lines.Line2D at 0x22f63a8e9d0>],\n",
       " 'medians': [<matplotlib.lines.Line2D at 0x22f63bfab80>],\n",
       " 'fliers': [<matplotlib.lines.Line2D at 0x22f63bfaf10>],\n",
       " 'means': []}"
      ]
     },
     "execution_count": 41,
     "metadata": {},
     "output_type": "execute_result"
    },
    {
     "data": {
      "image/png": "[encoded data removed]",
      "text/plain": [
       "<Figure size 432x288 with 1 Axes>"
      ]
     },
     "metadata": {
      "needs_background": "light"
     },
     "output_type": "display_data"
    }
   ],
   "source": [
    "# boxplot to check the outliers\n",
    "plt.boxplot(grouped_df['frequency'])"
   ]
  },
  {
   "cell_type": "code",
   "execution_count": 42,
   "id": "9c9d5273",
   "metadata": {},
   "outputs": [
    {
     "data": {
      "text/plain": [
       "{'whiskers': [<matplotlib.lines.Line2D at 0x22f63ad1be0>,\n",
       "  <matplotlib.lines.Line2D at 0x22f63ad1f70>],\n",
       " 'caps': [<matplotlib.lines.Line2D at 0x22f63ac2340>,\n",
       "  <matplotlib.lines.Line2D at 0x22f63ac26d0>],\n",
       " 'boxes': [<matplotlib.lines.Line2D at 0x22f63c99ac0>],\n",
       " 'medians': [<matplotlib.lines.Line2D at 0x22f63ac2a60>],\n",
       " 'fliers': [<matplotlib.lines.Line2D at 0x22f63ac2df0>],\n",
       " 'means': []}"
      ]
     },
     "execution_count": 42,
     "metadata": {},
     "output_type": "execute_result"
    },
    {
     "data": {
      "image/png": "[encoded data removed]",
      "text/plain": [
       "<Figure size 432x288 with 1 Axes>"
      ]
     },
     "metadata": {
      "needs_background": "light"
     },
     "output_type": "display_data"
    }
   ],
   "source": [
    "# boxplot to check the outliers\n",
    "plt.boxplot(grouped_df['monetary'])"
   ]
  },
  {
   "cell_type": "code",
   "execution_count": 43,
   "id": "8118e42a",
   "metadata": {},
   "outputs": [],
   "source": [
    "# the outliers are effecting the output so removing the outliers by statistical approach"
   ]
  },
  {
   "cell_type": "code",
   "execution_count": 44,
   "id": "011e051b",
   "metadata": {},
   "outputs": [],
   "source": [
    "# removing (statistical) outliers\n",
    "Q1 = grouped_df.monetary.quantile(0.10)\n",
    "Q3 = grouped_df.monetary.quantile(0.90)\n",
    "IQR = Q3 - Q1\n",
    "grouped_df = grouped_df[(grouped_df.monetary >= Q1 - 1.5*IQR) & (grouped_df.monetary <= Q3 + 1.5*IQR)]\n",
    "\n",
    "# outlier treatment for recency\n",
    "Q1 = grouped_df.recency.quantile(0.10)\n",
    "Q3 = grouped_df.recency.quantile(0.90)\n",
    "IQR = Q3 - Q1\n",
    "grouped_df = grouped_df[(grouped_df.recency >= Q1 - 1.5*IQR) & (grouped_df.recency <= Q3 + 1.5*IQR)]\n",
    "\n",
    "# outlier treatment for frequency\n",
    "Q1 = grouped_df.frequency.quantile(0.10)\n",
    "Q3 = grouped_df.frequency.quantile(0.90)\n",
    "IQR = Q3 - Q1\n",
    "grouped_df = grouped_df[(grouped_df.frequency >= Q1 - 1.5*IQR) & (grouped_df.frequency <= Q3 + 1.5*IQR)]"
   ]
  },
  {
   "cell_type": "code",
   "execution_count": 45,
   "id": "97d3647a",
   "metadata": {},
   "outputs": [
    {
     "data": {
      "text/html": [
       "<div>\n",
       "<style scoped>\n",
       "    .dataframe tbody tr th:only-of-type {\n",
       "        vertical-align: middle;\n",
       "    }\n",
       "\n",
       "    .dataframe tbody tr th {\n",
       "        vertical-align: top;\n",
       "    }\n",
       "\n",
       "    .dataframe thead th {\n",
       "        text-align: right;\n",
       "    }\n",
       "</style>\n",
       "<table border=\"1\" class=\"dataframe\">\n",
       "  <thead>\n",
       "    <tr style=\"text-align: right;\">\n",
       "      <th></th>\n",
       "      <th>CustomerID</th>\n",
       "      <th>monetary</th>\n",
       "      <th>frequency</th>\n",
       "      <th>recency</th>\n",
       "      <th>r_quartile</th>\n",
       "      <th>f_quartile</th>\n",
       "      <th>m_quartile</th>\n",
       "      <th>RFM_Score</th>\n",
       "      <th>cluster_id</th>\n",
       "      <th>RFM_Score1</th>\n",
       "      <th>cluster</th>\n",
       "    </tr>\n",
       "  </thead>\n",
       "  <tbody>\n",
       "    <tr>\n",
       "      <th>36</th>\n",
       "      <td>37</td>\n",
       "      <td>9378.67</td>\n",
       "      <td>47</td>\n",
       "      <td>17</td>\n",
       "      <td>2</td>\n",
       "      <td>1</td>\n",
       "      <td>1</td>\n",
       "      <td>211</td>\n",
       "      <td>1</td>\n",
       "      <td>NaN</td>\n",
       "      <td>1</td>\n",
       "    </tr>\n",
       "    <tr>\n",
       "      <th>37</th>\n",
       "      <td>38</td>\n",
       "      <td>9281.38</td>\n",
       "      <td>40</td>\n",
       "      <td>111</td>\n",
       "      <td>3</td>\n",
       "      <td>1</td>\n",
       "      <td>1</td>\n",
       "      <td>311</td>\n",
       "      <td>1</td>\n",
       "      <td>NaN</td>\n",
       "      <td>1</td>\n",
       "    </tr>\n",
       "    <tr>\n",
       "      <th>38</th>\n",
       "      <td>39</td>\n",
       "      <td>9172.22</td>\n",
       "      <td>54</td>\n",
       "      <td>131</td>\n",
       "      <td>3</td>\n",
       "      <td>1</td>\n",
       "      <td>1</td>\n",
       "      <td>311</td>\n",
       "      <td>1</td>\n",
       "      <td>NaN</td>\n",
       "      <td>1</td>\n",
       "    </tr>\n",
       "    <tr>\n",
       "      <th>39</th>\n",
       "      <td>40</td>\n",
       "      <td>9099.36</td>\n",
       "      <td>26</td>\n",
       "      <td>6</td>\n",
       "      <td>1</td>\n",
       "      <td>1</td>\n",
       "      <td>1</td>\n",
       "      <td>111</td>\n",
       "      <td>1</td>\n",
       "      <td>NaN</td>\n",
       "      <td>1</td>\n",
       "    </tr>\n",
       "    <tr>\n",
       "      <th>40</th>\n",
       "      <td>41</td>\n",
       "      <td>9006.15</td>\n",
       "      <td>44</td>\n",
       "      <td>2</td>\n",
       "      <td>1</td>\n",
       "      <td>1</td>\n",
       "      <td>1</td>\n",
       "      <td>111</td>\n",
       "      <td>1</td>\n",
       "      <td>NaN</td>\n",
       "      <td>1</td>\n",
       "    </tr>\n",
       "  </tbody>\n",
       "</table>\n",
       "</div>"
      ],
      "text/plain": [
       "    CustomerID  monetary  frequency  recency r_quartile f_quartile m_quartile  \\\n",
       "36          37   9378.67         47       17          2          1          1   \n",
       "37          38   9281.38         40      111          3          1          1   \n",
       "38          39   9172.22         54      131          3          1          1   \n",
       "39          40   9099.36         26        6          1          1          1   \n",
       "40          41   9006.15         44        2          1          1          1   \n",
       "\n",
       "   RFM_Score  cluster_id  RFM_Score1  cluster  \n",
       "36       211           1         NaN        1  \n",
       "37       311           1         NaN        1  \n",
       "38       311           1         NaN        1  \n",
       "39       111           1         NaN        1  \n",
       "40       111           1         NaN        1  "
      ]
     },
     "execution_count": 45,
     "metadata": {},
     "output_type": "execute_result"
    }
   ],
   "source": [
    "# creating quartiles for rfm\n",
    "grouped_df['r_quartile'] = pd.qcut(grouped_df['recency'], 4, ['1','2','3','4'])\n",
    "grouped_df['f_quartile'] = pd.qcut(grouped_df['frequency'], 4, ['4','3','2','1'])\n",
    "grouped_df['m_quartile'] = pd.qcut(grouped_df['monetary'], 4, ['4','3','2','1'])\n",
    "grouped_df.head()"
   ]
  },
  {
   "cell_type": "code",
   "execution_count": 46,
   "id": "5bd7fea1",
   "metadata": {},
   "outputs": [
    {
     "data": {
      "text/html": [
       "<div>\n",
       "<style scoped>\n",
       "    .dataframe tbody tr th:only-of-type {\n",
       "        vertical-align: middle;\n",
       "    }\n",
       "\n",
       "    .dataframe tbody tr th {\n",
       "        vertical-align: top;\n",
       "    }\n",
       "\n",
       "    .dataframe thead th {\n",
       "        text-align: right;\n",
       "    }\n",
       "</style>\n",
       "<table border=\"1\" class=\"dataframe\">\n",
       "  <thead>\n",
       "    <tr style=\"text-align: right;\">\n",
       "      <th></th>\n",
       "      <th>CustomerID</th>\n",
       "      <th>monetary</th>\n",
       "      <th>frequency</th>\n",
       "      <th>recency</th>\n",
       "      <th>r_quartile</th>\n",
       "      <th>f_quartile</th>\n",
       "      <th>m_quartile</th>\n",
       "      <th>RFM_Score</th>\n",
       "      <th>cluster_id</th>\n",
       "      <th>RFM_Score1</th>\n",
       "      <th>cluster</th>\n",
       "    </tr>\n",
       "  </thead>\n",
       "  <tbody>\n",
       "    <tr>\n",
       "      <th>39</th>\n",
       "      <td>40</td>\n",
       "      <td>9099.36</td>\n",
       "      <td>26</td>\n",
       "      <td>6</td>\n",
       "      <td>1</td>\n",
       "      <td>1</td>\n",
       "      <td>1</td>\n",
       "      <td>111</td>\n",
       "      <td>1</td>\n",
       "      <td>NaN</td>\n",
       "      <td>1</td>\n",
       "    </tr>\n",
       "    <tr>\n",
       "      <th>40</th>\n",
       "      <td>41</td>\n",
       "      <td>9006.15</td>\n",
       "      <td>44</td>\n",
       "      <td>2</td>\n",
       "      <td>1</td>\n",
       "      <td>1</td>\n",
       "      <td>1</td>\n",
       "      <td>111</td>\n",
       "      <td>1</td>\n",
       "      <td>NaN</td>\n",
       "      <td>1</td>\n",
       "    </tr>\n",
       "    <tr>\n",
       "      <th>45</th>\n",
       "      <td>46</td>\n",
       "      <td>8854.30</td>\n",
       "      <td>43</td>\n",
       "      <td>6</td>\n",
       "      <td>1</td>\n",
       "      <td>1</td>\n",
       "      <td>1</td>\n",
       "      <td>111</td>\n",
       "      <td>1</td>\n",
       "      <td>NaN</td>\n",
       "      <td>1</td>\n",
       "    </tr>\n",
       "    <tr>\n",
       "      <th>48</th>\n",
       "      <td>49</td>\n",
       "      <td>8711.50</td>\n",
       "      <td>47</td>\n",
       "      <td>2</td>\n",
       "      <td>1</td>\n",
       "      <td>1</td>\n",
       "      <td>1</td>\n",
       "      <td>111</td>\n",
       "      <td>1</td>\n",
       "      <td>NaN</td>\n",
       "      <td>1</td>\n",
       "    </tr>\n",
       "    <tr>\n",
       "      <th>72</th>\n",
       "      <td>73</td>\n",
       "      <td>7721.85</td>\n",
       "      <td>20</td>\n",
       "      <td>5</td>\n",
       "      <td>1</td>\n",
       "      <td>1</td>\n",
       "      <td>1</td>\n",
       "      <td>111</td>\n",
       "      <td>1</td>\n",
       "      <td>NaN</td>\n",
       "      <td>1</td>\n",
       "    </tr>\n",
       "  </tbody>\n",
       "</table>\n",
       "</div>"
      ],
      "text/plain": [
       "    CustomerID  monetary  frequency  recency r_quartile f_quartile m_quartile  \\\n",
       "39          40   9099.36         26        6          1          1          1   \n",
       "40          41   9006.15         44        2          1          1          1   \n",
       "45          46   8854.30         43        6          1          1          1   \n",
       "48          49   8711.50         47        2          1          1          1   \n",
       "72          73   7721.85         20        5          1          1          1   \n",
       "\n",
       "   RFM_Score  cluster_id  RFM_Score1  cluster  \n",
       "39       111           1         NaN        1  \n",
       "40       111           1         NaN        1  \n",
       "45       111           1         NaN        1  \n",
       "48       111           1         NaN        1  \n",
       "72       111           1         NaN        1  "
      ]
     },
     "execution_count": 46,
     "metadata": {},
     "output_type": "execute_result"
    }
   ],
   "source": [
    "#### Combine RFM Quantile score\n",
    "grouped_df['RFM_Score'] = grouped_df.r_quartile.astype(str)+ grouped_df.f_quartile.astype(str) + grouped_df.m_quartile.astype(str)\n",
    "grouped_df.head()\n",
    "# Filter out Top/Best customers as (111)\n",
    "grouped_df[grouped_df['RFM_Score']=='111'].sort_values('monetary', ascending=False).head()"
   ]
  },
  {
   "cell_type": "code",
   "execution_count": 47,
   "id": "f18a810c",
   "metadata": {},
   "outputs": [
    {
     "data": {
      "text/plain": [
       "(4953, 3)"
      ]
     },
     "execution_count": 47,
     "metadata": {},
     "output_type": "execute_result"
    }
   ],
   "source": [
    "# rescaling\n",
    "rfm_df = grouped_df[['r_quartile', 'f_quartile', 'm_quartile']]\n",
    "\n",
    "# instantiate\n",
    "scaler = StandardScaler()\n",
    "\n",
    "# fit_transform\n",
    "rfm_df_scaled = scaler.fit_transform(rfm_df)\n",
    "rfm_df_scaled.shape"
   ]
  },
  {
   "cell_type": "code",
   "execution_count": 48,
   "id": "10e1d248",
   "metadata": {},
   "outputs": [
    {
     "data": {
      "text/html": [
       "<div>\n",
       "<style scoped>\n",
       "    .dataframe tbody tr th:only-of-type {\n",
       "        vertical-align: middle;\n",
       "    }\n",
       "\n",
       "    .dataframe tbody tr th {\n",
       "        vertical-align: top;\n",
       "    }\n",
       "\n",
       "    .dataframe thead th {\n",
       "        text-align: right;\n",
       "    }\n",
       "</style>\n",
       "<table border=\"1\" class=\"dataframe\">\n",
       "  <thead>\n",
       "    <tr style=\"text-align: right;\">\n",
       "      <th></th>\n",
       "      <th>r_quartile</th>\n",
       "      <th>f_quartile</th>\n",
       "      <th>m_quartile</th>\n",
       "    </tr>\n",
       "  </thead>\n",
       "  <tbody>\n",
       "    <tr>\n",
       "      <th>0</th>\n",
       "      <td>-0.438189</td>\n",
       "      <td>-1.352022</td>\n",
       "      <td>-1.341767</td>\n",
       "    </tr>\n",
       "    <tr>\n",
       "      <th>1</th>\n",
       "      <td>0.452028</td>\n",
       "      <td>-1.352022</td>\n",
       "      <td>-1.341767</td>\n",
       "    </tr>\n",
       "    <tr>\n",
       "      <th>2</th>\n",
       "      <td>0.452028</td>\n",
       "      <td>-1.352022</td>\n",
       "      <td>-1.341767</td>\n",
       "    </tr>\n",
       "    <tr>\n",
       "      <th>3</th>\n",
       "      <td>-1.328406</td>\n",
       "      <td>-1.352022</td>\n",
       "      <td>-1.341767</td>\n",
       "    </tr>\n",
       "    <tr>\n",
       "      <th>4</th>\n",
       "      <td>-1.328406</td>\n",
       "      <td>-1.352022</td>\n",
       "      <td>-1.341767</td>\n",
       "    </tr>\n",
       "  </tbody>\n",
       "</table>\n",
       "</div>"
      ],
      "text/plain": [
       "   r_quartile  f_quartile  m_quartile\n",
       "0   -0.438189   -1.352022   -1.341767\n",
       "1    0.452028   -1.352022   -1.341767\n",
       "2    0.452028   -1.352022   -1.341767\n",
       "3   -1.328406   -1.352022   -1.341767\n",
       "4   -1.328406   -1.352022   -1.341767"
      ]
     },
     "execution_count": 48,
     "metadata": {},
     "output_type": "execute_result"
    }
   ],
   "source": [
    "# creating data frame rfm_df_scaled\n",
    "rfm_df_scaled = pd.DataFrame(rfm_df_scaled)\n",
    "rfm_df_scaled.columns = ['r_quartile', 'f_quartile', 'm_quartile']\n",
    "rfm_df_scaled.head()"
   ]
  },
  {
   "cell_type": "code",
   "execution_count": 49,
   "id": "f4c86642",
   "metadata": {},
   "outputs": [
    {
     "data": {
      "text/plain": [
       "KMeans(max_iter=50, n_clusters=4)"
      ]
     },
     "execution_count": 49,
     "metadata": {},
     "output_type": "execute_result"
    }
   ],
   "source": [
    "# k-means with some arbitrary k\n",
    "kmeans = KMeans(n_clusters=4, max_iter=50)\n",
    "kmeans.fit(rfm_df_scaled)"
   ]
  },
  {
   "cell_type": "code",
   "execution_count": 50,
   "id": "48d2f109",
   "metadata": {},
   "outputs": [
    {
     "data": {
      "text/plain": [
       "array([3, 2, 2, ..., 1, 1, 0])"
      ]
     },
     "execution_count": 50,
     "metadata": {},
     "output_type": "execute_result"
    }
   ],
   "source": [
    "kmeans.labels_"
   ]
  },
  {
   "cell_type": "code",
   "execution_count": 51,
   "id": "8ca8ab56",
   "metadata": {},
   "outputs": [
    {
     "data": {
      "text/plain": [
       "[<matplotlib.lines.Line2D at 0x22f000b8e20>]"
      ]
     },
     "execution_count": 51,
     "metadata": {},
     "output_type": "execute_result"
    },
    {
     "data": {
      "image/png": "[encoded data removed]",
      "text/plain": [
       "<Figure size 432x288 with 1 Axes>"
      ]
     },
     "metadata": {
      "needs_background": "light"
     },
     "output_type": "display_data"
    }
   ],
   "source": [
    "ssd = []\n",
    "range_n_clusters = [2, 3, 4, 5, 6, 7, 8]\n",
    "for num_clusters in range_n_clusters:\n",
    "    kmeans = KMeans(n_clusters=num_clusters, max_iter=50)\n",
    "    kmeans.fit(rfm_df_scaled)\n",
    "    \n",
    "    ssd.append(kmeans.inertia_)\n",
    "    \n",
    "# plot the SSDs for each n_clusters\n",
    "# ssd\n",
    "plt.plot(ssd)"
   ]
  },
  {
   "cell_type": "code",
   "execution_count": 52,
   "id": "9842802f",
   "metadata": {},
   "outputs": [],
   "source": [
    "# observation : the elbow curve at 3 is high so taking k is 3"
   ]
  },
  {
   "cell_type": "code",
   "execution_count": 53,
   "id": "6a4e31bd",
   "metadata": {},
   "outputs": [
    {
     "name": "stdout",
     "output_type": "stream",
     "text": [
      "For n_clusters=2, the silhouette score is 0.4597316973921141\n",
      "For n_clusters=3, the silhouette score is 0.5304146511231689\n",
      "For n_clusters=4, the silhouette score is 0.46990851488326785\n",
      "For n_clusters=5, the silhouette score is 0.45784698380846517\n",
      "For n_clusters=6, the silhouette score is 0.4471325730552637\n",
      "For n_clusters=7, the silhouette score is 0.4561735583400728\n",
      "For n_clusters=8, the silhouette score is 0.47487139106103077\n"
     ]
    }
   ],
   "source": [
    "\n",
    "# silhouette analysis\n",
    "range_n_clusters = [2, 3, 4, 5, 6, 7, 8]\n",
    "\n",
    "for num_clusters in range_n_clusters:\n",
    "    \n",
    "    # intialise kmeans\n",
    "    kmeans = KMeans(n_clusters=num_clusters, max_iter=500)\n",
    "    kmeans.fit(rfm_df_scaled)\n",
    "    \n",
    "    cluster_labels = kmeans.labels_\n",
    "    \n",
    "    # silhouette score\n",
    "    silhouette_avg = silhouette_score(rfm_df_scaled, cluster_labels)\n",
    "    print(\"For n_clusters={0}, the silhouette score is {1}\".format(num_clusters, silhouette_avg))"
   ]
  },
  {
   "cell_type": "code",
   "execution_count": 54,
   "id": "36d26f19",
   "metadata": {},
   "outputs": [
    {
     "data": {
      "text/plain": [
       "KMeans(max_iter=500, n_clusters=3)"
      ]
     },
     "execution_count": 54,
     "metadata": {},
     "output_type": "execute_result"
    }
   ],
   "source": [
    "# final model with k=3\n",
    "kmeans = KMeans(n_clusters=3, max_iter=500)\n",
    "kmeans.fit(rfm_df_scaled)"
   ]
  },
  {
   "cell_type": "code",
   "execution_count": 55,
   "id": "773ae0a1",
   "metadata": {},
   "outputs": [
    {
     "data": {
      "text/plain": [
       "array([0, 0, 0, ..., 1, 1, 2])"
      ]
     },
     "execution_count": 55,
     "metadata": {},
     "output_type": "execute_result"
    }
   ],
   "source": [
    "kmeans.labels_"
   ]
  },
  {
   "cell_type": "code",
   "execution_count": 56,
   "id": "85f11afa",
   "metadata": {},
   "outputs": [
    {
     "data": {
      "text/html": [
       "<div>\n",
       "<style scoped>\n",
       "    .dataframe tbody tr th:only-of-type {\n",
       "        vertical-align: middle;\n",
       "    }\n",
       "\n",
       "    .dataframe tbody tr th {\n",
       "        vertical-align: top;\n",
       "    }\n",
       "\n",
       "    .dataframe thead th {\n",
       "        text-align: right;\n",
       "    }\n",
       "</style>\n",
       "<table border=\"1\" class=\"dataframe\">\n",
       "  <thead>\n",
       "    <tr style=\"text-align: right;\">\n",
       "      <th></th>\n",
       "      <th>CustomerID</th>\n",
       "      <th>monetary</th>\n",
       "      <th>frequency</th>\n",
       "      <th>recency</th>\n",
       "      <th>r_quartile</th>\n",
       "      <th>f_quartile</th>\n",
       "      <th>m_quartile</th>\n",
       "      <th>RFM_Score</th>\n",
       "      <th>cluster_id</th>\n",
       "      <th>RFM_Score1</th>\n",
       "      <th>cluster</th>\n",
       "    </tr>\n",
       "  </thead>\n",
       "  <tbody>\n",
       "    <tr>\n",
       "      <th>36</th>\n",
       "      <td>37</td>\n",
       "      <td>9378.67</td>\n",
       "      <td>47</td>\n",
       "      <td>17</td>\n",
       "      <td>2</td>\n",
       "      <td>1</td>\n",
       "      <td>1</td>\n",
       "      <td>211</td>\n",
       "      <td>0</td>\n",
       "      <td>NaN</td>\n",
       "      <td>1</td>\n",
       "    </tr>\n",
       "    <tr>\n",
       "      <th>37</th>\n",
       "      <td>38</td>\n",
       "      <td>9281.38</td>\n",
       "      <td>40</td>\n",
       "      <td>111</td>\n",
       "      <td>3</td>\n",
       "      <td>1</td>\n",
       "      <td>1</td>\n",
       "      <td>311</td>\n",
       "      <td>0</td>\n",
       "      <td>NaN</td>\n",
       "      <td>1</td>\n",
       "    </tr>\n",
       "    <tr>\n",
       "      <th>38</th>\n",
       "      <td>39</td>\n",
       "      <td>9172.22</td>\n",
       "      <td>54</td>\n",
       "      <td>131</td>\n",
       "      <td>3</td>\n",
       "      <td>1</td>\n",
       "      <td>1</td>\n",
       "      <td>311</td>\n",
       "      <td>0</td>\n",
       "      <td>NaN</td>\n",
       "      <td>1</td>\n",
       "    </tr>\n",
       "    <tr>\n",
       "      <th>39</th>\n",
       "      <td>40</td>\n",
       "      <td>9099.36</td>\n",
       "      <td>26</td>\n",
       "      <td>6</td>\n",
       "      <td>1</td>\n",
       "      <td>1</td>\n",
       "      <td>1</td>\n",
       "      <td>111</td>\n",
       "      <td>0</td>\n",
       "      <td>NaN</td>\n",
       "      <td>1</td>\n",
       "    </tr>\n",
       "    <tr>\n",
       "      <th>40</th>\n",
       "      <td>41</td>\n",
       "      <td>9006.15</td>\n",
       "      <td>44</td>\n",
       "      <td>2</td>\n",
       "      <td>1</td>\n",
       "      <td>1</td>\n",
       "      <td>1</td>\n",
       "      <td>111</td>\n",
       "      <td>0</td>\n",
       "      <td>NaN</td>\n",
       "      <td>1</td>\n",
       "    </tr>\n",
       "  </tbody>\n",
       "</table>\n",
       "</div>"
      ],
      "text/plain": [
       "    CustomerID  monetary  frequency  recency r_quartile f_quartile m_quartile  \\\n",
       "36          37   9378.67         47       17          2          1          1   \n",
       "37          38   9281.38         40      111          3          1          1   \n",
       "38          39   9172.22         54      131          3          1          1   \n",
       "39          40   9099.36         26        6          1          1          1   \n",
       "40          41   9006.15         44        2          1          1          1   \n",
       "\n",
       "   RFM_Score  cluster_id  RFM_Score1  cluster  \n",
       "36       211           0         NaN        1  \n",
       "37       311           0         NaN        1  \n",
       "38       311           0         NaN        1  \n",
       "39       111           0         NaN        1  \n",
       "40       111           0         NaN        1  "
      ]
     },
     "execution_count": 56,
     "metadata": {},
     "output_type": "execute_result"
    }
   ],
   "source": [
    "# assign the label\n",
    "grouped_df['cluster_id'] = kmeans.labels_\n",
    "grouped_df.head()"
   ]
  },
  {
   "cell_type": "code",
   "execution_count": 57,
   "id": "e16a110e",
   "metadata": {},
   "outputs": [],
   "source": [
    "grouped_df['RFM_Score1'] = grouped_df[['r_quartile','f_quartile','m_quartile']].sum(axis=1)"
   ]
  },
  {
   "cell_type": "code",
   "execution_count": 58,
   "id": "05973b9d",
   "metadata": {},
   "outputs": [
    {
     "name": "stdout",
     "output_type": "stream",
     "text": [
      "36    211.0\n",
      "37    311.0\n",
      "38    311.0\n",
      "39    111.0\n",
      "40    111.0\n",
      "Name: RFM_Score1, dtype: float64\n"
     ]
    }
   ],
   "source": [
    "print(grouped_df['RFM_Score1'].head())\n"
   ]
  },
  {
   "cell_type": "code",
   "execution_count": 59,
   "id": "ae51d485",
   "metadata": {},
   "outputs": [],
   "source": [
    "\n",
    "grouped_df['RFM_Score1'] = grouped_df['r_quartile'].value_counts() + grouped_df['f_quartile'].value_counts()+ grouped_df['m_quartile'].value_counts()"
   ]
  },
  {
   "cell_type": "code",
   "execution_count": 60,
   "id": "02079411",
   "metadata": {},
   "outputs": [
    {
     "data": {
      "text/html": [
       "<div>\n",
       "<style scoped>\n",
       "    .dataframe tbody tr th:only-of-type {\n",
       "        vertical-align: middle;\n",
       "    }\n",
       "\n",
       "    .dataframe tbody tr th {\n",
       "        vertical-align: top;\n",
       "    }\n",
       "\n",
       "    .dataframe thead th {\n",
       "        text-align: right;\n",
       "    }\n",
       "</style>\n",
       "<table border=\"1\" class=\"dataframe\">\n",
       "  <thead>\n",
       "    <tr style=\"text-align: right;\">\n",
       "      <th></th>\n",
       "      <th>CustomerID</th>\n",
       "      <th>monetary</th>\n",
       "      <th>frequency</th>\n",
       "      <th>recency</th>\n",
       "      <th>r_quartile</th>\n",
       "      <th>f_quartile</th>\n",
       "      <th>m_quartile</th>\n",
       "      <th>RFM_Score</th>\n",
       "      <th>cluster_id</th>\n",
       "      <th>RFM_Score1</th>\n",
       "      <th>cluster</th>\n",
       "    </tr>\n",
       "  </thead>\n",
       "  <tbody>\n",
       "    <tr>\n",
       "      <th>39</th>\n",
       "      <td>40</td>\n",
       "      <td>9099.36</td>\n",
       "      <td>26</td>\n",
       "      <td>6</td>\n",
       "      <td>1</td>\n",
       "      <td>1</td>\n",
       "      <td>1</td>\n",
       "      <td>111</td>\n",
       "      <td>0</td>\n",
       "      <td>NaN</td>\n",
       "      <td>1</td>\n",
       "    </tr>\n",
       "    <tr>\n",
       "      <th>40</th>\n",
       "      <td>41</td>\n",
       "      <td>9006.15</td>\n",
       "      <td>44</td>\n",
       "      <td>2</td>\n",
       "      <td>1</td>\n",
       "      <td>1</td>\n",
       "      <td>1</td>\n",
       "      <td>111</td>\n",
       "      <td>0</td>\n",
       "      <td>NaN</td>\n",
       "      <td>1</td>\n",
       "    </tr>\n",
       "    <tr>\n",
       "      <th>45</th>\n",
       "      <td>46</td>\n",
       "      <td>8854.30</td>\n",
       "      <td>43</td>\n",
       "      <td>6</td>\n",
       "      <td>1</td>\n",
       "      <td>1</td>\n",
       "      <td>1</td>\n",
       "      <td>111</td>\n",
       "      <td>0</td>\n",
       "      <td>NaN</td>\n",
       "      <td>1</td>\n",
       "    </tr>\n",
       "    <tr>\n",
       "      <th>48</th>\n",
       "      <td>49</td>\n",
       "      <td>8711.50</td>\n",
       "      <td>47</td>\n",
       "      <td>2</td>\n",
       "      <td>1</td>\n",
       "      <td>1</td>\n",
       "      <td>1</td>\n",
       "      <td>111</td>\n",
       "      <td>0</td>\n",
       "      <td>NaN</td>\n",
       "      <td>1</td>\n",
       "    </tr>\n",
       "    <tr>\n",
       "      <th>72</th>\n",
       "      <td>73</td>\n",
       "      <td>7721.85</td>\n",
       "      <td>20</td>\n",
       "      <td>5</td>\n",
       "      <td>1</td>\n",
       "      <td>1</td>\n",
       "      <td>1</td>\n",
       "      <td>111</td>\n",
       "      <td>0</td>\n",
       "      <td>NaN</td>\n",
       "      <td>1</td>\n",
       "    </tr>\n",
       "    <tr>\n",
       "      <th>74</th>\n",
       "      <td>75</td>\n",
       "      <td>7649.71</td>\n",
       "      <td>54</td>\n",
       "      <td>4</td>\n",
       "      <td>1</td>\n",
       "      <td>1</td>\n",
       "      <td>1</td>\n",
       "      <td>111</td>\n",
       "      <td>0</td>\n",
       "      <td>NaN</td>\n",
       "      <td>1</td>\n",
       "    </tr>\n",
       "    <tr>\n",
       "      <th>75</th>\n",
       "      <td>76</td>\n",
       "      <td>7518.00</td>\n",
       "      <td>39</td>\n",
       "      <td>7</td>\n",
       "      <td>1</td>\n",
       "      <td>1</td>\n",
       "      <td>1</td>\n",
       "      <td>111</td>\n",
       "      <td>0</td>\n",
       "      <td>NaN</td>\n",
       "      <td>1</td>\n",
       "    </tr>\n",
       "    <tr>\n",
       "      <th>79</th>\n",
       "      <td>80</td>\n",
       "      <td>7390.98</td>\n",
       "      <td>40</td>\n",
       "      <td>3</td>\n",
       "      <td>1</td>\n",
       "      <td>1</td>\n",
       "      <td>1</td>\n",
       "      <td>111</td>\n",
       "      <td>0</td>\n",
       "      <td>NaN</td>\n",
       "      <td>1</td>\n",
       "    </tr>\n",
       "    <tr>\n",
       "      <th>82</th>\n",
       "      <td>83</td>\n",
       "      <td>7259.69</td>\n",
       "      <td>43</td>\n",
       "      <td>1</td>\n",
       "      <td>1</td>\n",
       "      <td>1</td>\n",
       "      <td>1</td>\n",
       "      <td>111</td>\n",
       "      <td>0</td>\n",
       "      <td>NaN</td>\n",
       "      <td>1</td>\n",
       "    </tr>\n",
       "    <tr>\n",
       "      <th>84</th>\n",
       "      <td>85</td>\n",
       "      <td>7173.63</td>\n",
       "      <td>43</td>\n",
       "      <td>4</td>\n",
       "      <td>1</td>\n",
       "      <td>1</td>\n",
       "      <td>1</td>\n",
       "      <td>111</td>\n",
       "      <td>0</td>\n",
       "      <td>NaN</td>\n",
       "      <td>1</td>\n",
       "    </tr>\n",
       "  </tbody>\n",
       "</table>\n",
       "</div>"
      ],
      "text/plain": [
       "    CustomerID  monetary  frequency  recency r_quartile f_quartile m_quartile  \\\n",
       "39          40   9099.36         26        6          1          1          1   \n",
       "40          41   9006.15         44        2          1          1          1   \n",
       "45          46   8854.30         43        6          1          1          1   \n",
       "48          49   8711.50         47        2          1          1          1   \n",
       "72          73   7721.85         20        5          1          1          1   \n",
       "74          75   7649.71         54        4          1          1          1   \n",
       "75          76   7518.00         39        7          1          1          1   \n",
       "79          80   7390.98         40        3          1          1          1   \n",
       "82          83   7259.69         43        1          1          1          1   \n",
       "84          85   7173.63         43        4          1          1          1   \n",
       "\n",
       "   RFM_Score  cluster_id  RFM_Score1  cluster  \n",
       "39       111           0         NaN        1  \n",
       "40       111           0         NaN        1  \n",
       "45       111           0         NaN        1  \n",
       "48       111           0         NaN        1  \n",
       "72       111           0         NaN        1  \n",
       "74       111           0         NaN        1  \n",
       "75       111           0         NaN        1  \n",
       "79       111           0         NaN        1  \n",
       "82       111           0         NaN        1  \n",
       "84       111           0         NaN        1  "
      ]
     },
     "execution_count": 60,
     "metadata": {},
     "output_type": "execute_result"
    }
   ],
   "source": [
    "grouped_df[grouped_df['RFM_Score']=='111'].sort_values('monetary', ascending=False).head(10)\n"
   ]
  },
  {
   "cell_type": "code",
   "execution_count": 61,
   "id": "e553d99c",
   "metadata": {},
   "outputs": [],
   "source": [
    "grouped_df[\"cluster\"] = kmeans.labels_"
   ]
  },
  {
   "cell_type": "code",
   "execution_count": 62,
   "id": "85f727fc",
   "metadata": {},
   "outputs": [
    {
     "data": {
      "text/html": [
       "<div>\n",
       "<style scoped>\n",
       "    .dataframe tbody tr th:only-of-type {\n",
       "        vertical-align: middle;\n",
       "    }\n",
       "\n",
       "    .dataframe tbody tr th {\n",
       "        vertical-align: top;\n",
       "    }\n",
       "\n",
       "    .dataframe thead tr th {\n",
       "        text-align: left;\n",
       "    }\n",
       "\n",
       "    .dataframe thead tr:last-of-type th {\n",
       "        text-align: right;\n",
       "    }\n",
       "</style>\n",
       "<table border=\"1\" class=\"dataframe\">\n",
       "  <thead>\n",
       "    <tr>\n",
       "      <th></th>\n",
       "      <th>recency</th>\n",
       "      <th>frequency</th>\n",
       "      <th colspan=\"2\" halign=\"left\">monetary</th>\n",
       "    </tr>\n",
       "    <tr>\n",
       "      <th></th>\n",
       "      <th>mean</th>\n",
       "      <th>mean</th>\n",
       "      <th>mean</th>\n",
       "      <th>count</th>\n",
       "    </tr>\n",
       "    <tr>\n",
       "      <th>cluster</th>\n",
       "      <th></th>\n",
       "      <th></th>\n",
       "      <th></th>\n",
       "      <th></th>\n",
       "    </tr>\n",
       "  </thead>\n",
       "  <tbody>\n",
       "    <tr>\n",
       "      <th>0</th>\n",
       "      <td>66.85</td>\n",
       "      <td>21.21</td>\n",
       "      <td>2778.02</td>\n",
       "      <td>2460</td>\n",
       "    </tr>\n",
       "    <tr>\n",
       "      <th>1</th>\n",
       "      <td>184.64</td>\n",
       "      <td>3.41</td>\n",
       "      <td>347.21</td>\n",
       "      <td>1425</td>\n",
       "    </tr>\n",
       "    <tr>\n",
       "      <th>2</th>\n",
       "      <td>6.35</td>\n",
       "      <td>4.03</td>\n",
       "      <td>468.31</td>\n",
       "      <td>1068</td>\n",
       "    </tr>\n",
       "  </tbody>\n",
       "</table>\n",
       "</div>"
      ],
      "text/plain": [
       "        recency frequency monetary      \n",
       "           mean      mean     mean count\n",
       "cluster                                 \n",
       "0         66.85     21.21  2778.02  2460\n",
       "1        184.64      3.41   347.21  1425\n",
       "2          6.35      4.03   468.31  1068"
      ]
     },
     "execution_count": 62,
     "metadata": {},
     "output_type": "execute_result"
    }
   ],
   "source": [
    "# aggreagate function of rfm\n",
    "grouped_df.groupby('cluster').agg({'recency':'mean','frequency':'mean','monetary':['mean', 'count']}).round(2)\n"
   ]
  },
  {
   "cell_type": "code",
   "execution_count": 63,
   "id": "8c926971",
   "metadata": {},
   "outputs": [],
   "source": [
    "#-- obserrvation  the above table represnts the mean of the rfm\n",
    "# mean of recency with respect to cluster id-0 ,1,2 = 184.64,66.85,6.35 respectively\n",
    "# mean of grequency with respect to cluster id-0 ,1,2 = 3.41,21.21,4.03 respectively\n",
    "# mean of mean with respect to cluster id-0 ,1,2 = 347.21,2778.02,468.31 respectively"
   ]
  },
  {
   "cell_type": "code",
   "execution_count": 64,
   "id": "337d8930",
   "metadata": {},
   "outputs": [],
   "source": [
    "# observation:\n",
    "# the count of cluster 0 = 2460\n",
    "# the count of cluster 1 = 1425\n",
    "# the count of cluster 2 = 1068"
   ]
  },
  {
   "cell_type": "code",
   "execution_count": 65,
   "id": "12483a55",
   "metadata": {},
   "outputs": [
    {
     "data": {
      "text/plain": [
       "<AxesSubplot:xlabel='cluster', ylabel='recency'>"
      ]
     },
     "execution_count": 65,
     "metadata": {},
     "output_type": "execute_result"
    },
    {
     "data": {
      "image/png": "[encoded data removed]",
      "text/plain": [
       "<Figure size 432x288 with 1 Axes>"
      ]
     },
     "metadata": {
      "needs_background": "light"
     },
     "output_type": "display_data"
    }
   ],
   "source": [
    "# box plot for cluster vs recency\n",
    "sns.boxplot(x='cluster', y='recency', data=grouped_df)"
   ]
  },
  {
   "cell_type": "code",
   "execution_count": 66,
   "id": "4dd66d44",
   "metadata": {},
   "outputs": [],
   "source": [
    "# observation: \n",
    "\n",
    "# the cluster 0 recency is medium\n",
    "# the cluster 1 recency is high\n",
    "# the cluster 2 recency is low\n"
   ]
  },
  {
   "cell_type": "code",
   "execution_count": 67,
   "id": "c655ddd2",
   "metadata": {},
   "outputs": [
    {
     "data": {
      "text/plain": [
       "<AxesSubplot:xlabel='cluster', ylabel='frequency'>"
      ]
     },
     "execution_count": 67,
     "metadata": {},
     "output_type": "execute_result"
    },
    {
     "data": {
      "image/png": "[encoded data removed]",
      "text/plain": [
       "<Figure size 432x288 with 1 Axes>"
      ]
     },
     "metadata": {
      "needs_background": "light"
     },
     "output_type": "display_data"
    }
   ],
   "source": [
    "# box plot for cluster vs frequency\n",
    "sns.boxplot(x='cluster', y='frequency', data=grouped_df)"
   ]
  },
  {
   "cell_type": "code",
   "execution_count": 68,
   "id": "49c1a9b8",
   "metadata": {},
   "outputs": [],
   "source": [
    "# observation: \n",
    "\n",
    "# the cluster 0 frequency is high\n",
    "# the cluster 1 frequency is low\n",
    "# the cluster 2 frequency is medium"
   ]
  },
  {
   "cell_type": "code",
   "execution_count": 69,
   "id": "0f0a71d3",
   "metadata": {},
   "outputs": [
    {
     "data": {
      "text/plain": [
       "<AxesSubplot:xlabel='cluster', ylabel='monetary'>"
      ]
     },
     "execution_count": 69,
     "metadata": {},
     "output_type": "execute_result"
    },
    {
     "data": {
      "image/png": "[encoded data removed]",
      "text/plain": [
       "<Figure size 432x288 with 1 Axes>"
      ]
     },
     "metadata": {
      "needs_background": "light"
     },
     "output_type": "display_data"
    }
   ],
   "source": [
    "# box plot for cluster vs monetary\n",
    "sns.boxplot(x='cluster', y='monetary', data=grouped_df)"
   ]
  },
  {
   "cell_type": "code",
   "execution_count": 70,
   "id": "f4b589c7",
   "metadata": {},
   "outputs": [],
   "source": [
    "# observation: \n",
    "\n",
    "# the cluster 0 monetary is high\n",
    "# the cluster 1 monetary is low\n",
    "# the cluster 2 monetary is medium"
   ]
  },
  {
   "cell_type": "markdown",
   "id": "d68752b5",
   "metadata": {},
   "source": [
    "# EDA_ANALYSIS"
   ]
  },
  {
   "cell_type": "code",
   "execution_count": 71,
   "id": "4e5105b1",
   "metadata": {},
   "outputs": [
    {
     "data": {
      "text/html": [
       "<div>\n",
       "<style scoped>\n",
       "    .dataframe tbody tr th:only-of-type {\n",
       "        vertical-align: middle;\n",
       "    }\n",
       "\n",
       "    .dataframe tbody tr th {\n",
       "        vertical-align: top;\n",
       "    }\n",
       "\n",
       "    .dataframe thead th {\n",
       "        text-align: right;\n",
       "    }\n",
       "</style>\n",
       "<table border=\"1\" class=\"dataframe\">\n",
       "  <thead>\n",
       "    <tr style=\"text-align: right;\">\n",
       "      <th></th>\n",
       "      <th>recency</th>\n",
       "      <th>frequency</th>\n",
       "      <th>monetary</th>\n",
       "    </tr>\n",
       "    <tr>\n",
       "      <th>cluster</th>\n",
       "      <th></th>\n",
       "      <th></th>\n",
       "      <th></th>\n",
       "    </tr>\n",
       "  </thead>\n",
       "  <tbody>\n",
       "    <tr>\n",
       "      <th>0</th>\n",
       "      <td>66.85</td>\n",
       "      <td>21.21</td>\n",
       "      <td>2778.02</td>\n",
       "    </tr>\n",
       "    <tr>\n",
       "      <th>1</th>\n",
       "      <td>184.64</td>\n",
       "      <td>3.41</td>\n",
       "      <td>347.21</td>\n",
       "    </tr>\n",
       "    <tr>\n",
       "      <th>2</th>\n",
       "      <td>6.35</td>\n",
       "      <td>4.03</td>\n",
       "      <td>468.31</td>\n",
       "    </tr>\n",
       "  </tbody>\n",
       "</table>\n",
       "</div>"
      ],
      "text/plain": [
       "         recency  frequency  monetary\n",
       "cluster                              \n",
       "0          66.85      21.21   2778.02\n",
       "1         184.64       3.41    347.21\n",
       "2           6.35       4.03    468.31"
      ]
     },
     "execution_count": 71,
     "metadata": {},
     "output_type": "execute_result"
    }
   ],
   "source": [
    "agg=grouped_df.groupby('cluster').agg({'recency':'mean','frequency':'mean','monetary':'mean'}).round(2)\n",
    "agg"
   ]
  },
  {
   "cell_type": "code",
   "execution_count": 72,
   "id": "e81c20f6",
   "metadata": {},
   "outputs": [
    {
     "data": {
      "text/plain": [
       "[<matplotlib.lines.Line2D at 0x22f003163a0>]"
      ]
     },
     "execution_count": 72,
     "metadata": {},
     "output_type": "execute_result"
    },
    {
     "data": {
      "image/png": "[encoded data removed]",
      "text/plain": [
       "<Figure size 864x432 with 3 Axes>"
      ]
     },
     "metadata": {
      "needs_background": "light"
     },
     "output_type": "display_data"
    }
   ],
   "source": [
    "plt.figure(figsize=(12,6))\n",
    "plt.subplot(1,3,1)\n",
    "plt.plot(agg['recency'],'-o')\n",
    "plt.subplot(1,3,2)\n",
    "plt.plot(agg['frequency'],'-o')\n",
    "plt.subplot(1,3,3)\n",
    "plt.plot(agg['monetary'],'-o')"
   ]
  },
  {
   "cell_type": "code",
   "execution_count": 73,
   "id": "a7fe0887",
   "metadata": {},
   "outputs": [],
   "source": [
    "# observation\n",
    "\n",
    "#recency :  cluster 0 has high recency ,cluster 1 has medium recency ,cluster 2 has low recency\n",
    "\n",
    "#frequency :  cluster 0 has low frequency ,cluster 1 has high frequency ,cluster 2 has medium frequency\n",
    "\n",
    "#monetary :  cluster 0 has low monetary ,cluster 1 has high monetary ,cluster 2 has medium monetary"
   ]
  },
  {
   "cell_type": "code",
   "execution_count": 74,
   "id": "e6ab7466",
   "metadata": {},
   "outputs": [
    {
     "data": {
      "text/plain": [
       "<AxesSubplot:xlabel='cluster', ylabel='count'>"
      ]
     },
     "execution_count": 74,
     "metadata": {},
     "output_type": "execute_result"
    },
    {
     "data": {
      "image/png": "[encoded data removed]",
      "text/plain": [
       "<Figure size 432x288 with 1 Axes>"
      ]
     },
     "metadata": {
      "needs_background": "light"
     },
     "output_type": "display_data"
    }
   ],
   "source": [
    "# couning the cluster values plot\n",
    "sns.countplot(grouped_df['cluster'])"
   ]
  },
  {
   "cell_type": "code",
   "execution_count": 75,
   "id": "8eaf9483",
   "metadata": {},
   "outputs": [],
   "source": [
    "# observation:\n",
    "# the count of cluster 0 =  2460\n",
    "# the count of cluster 1 = 1425\n",
    "# the count of cluster 2 = 1068"
   ]
  },
  {
   "cell_type": "code",
   "execution_count": 76,
   "id": "88dbb7bf",
   "metadata": {},
   "outputs": [
    {
     "data": {
      "text/plain": [
       "<AxesSubplot:xlabel='cluster', ylabel='RFM_Score'>"
      ]
     },
     "execution_count": 76,
     "metadata": {},
     "output_type": "execute_result"
    },
    {
     "data": {
      "image/png": "[encoded data removed]",
      "text/plain": [
       "<Figure size 432x288 with 1 Axes>"
      ]
     },
     "metadata": {
      "needs_background": "light"
     },
     "output_type": "display_data"
    }
   ],
   "source": [
    "# cluster and its  rfm score  plot\n",
    "grouped_df['RFM_Score']=grouped_df['RFM_Score'].astype('float')\n",
    "sns.barplot(grouped_df['cluster'],grouped_df['RFM_Score'])"
   ]
  },
  {
   "cell_type": "code",
   "execution_count": 77,
   "id": "1828b43f",
   "metadata": {},
   "outputs": [],
   "source": [
    "# rfm score\n",
    "# o clsuter rfm score = 450\n",
    "# 1 clsuter rfm score = 251\n",
    "# 2 clsuter rfm score = 150"
   ]
  },
  {
   "cell_type": "code",
   "execution_count": null,
   "id": "c383b59e",
   "metadata": {},
   "outputs": [],
   "source": []
  },
  {
   "cell_type": "code",
   "execution_count": 78,
   "id": "5e2aee4b",
   "metadata": {},
   "outputs": [],
   "source": [
    "# DAY WISE ORDERS\n",
    "daywiseorders=sales_df[['MONDAY_ORDERS','TUESDAY_ORDERS','WEDNESDAY_ORDERS','THURSDAY_ORDERS','FRIDAY_ORDERS','SATURDAY_ORDERS','SUNDAY_ORDERS']].sum()"
   ]
  },
  {
   "cell_type": "code",
   "execution_count": 79,
   "id": "3475b7c9",
   "metadata": {},
   "outputs": [
    {
     "data": {
      "text/plain": [
       "[<matplotlib.lines.Line2D at 0x22f00439f40>]"
      ]
     },
     "execution_count": 79,
     "metadata": {},
     "output_type": "execute_result"
    },
    {
     "data": {
      "image/png": "[encoded data removed]",
      "text/plain": [
       "<Figure size 432x288 with 1 Axes>"
      ]
     },
     "metadata": {
      "needs_background": "light"
     },
     "output_type": "display_data"
    }
   ],
   "source": [
    "plt.plot(daywiseorders.values,daywiseorders.index,'-o')"
   ]
  },
  {
   "cell_type": "code",
   "execution_count": 80,
   "id": "52d716e9",
   "metadata": {},
   "outputs": [],
   "source": [
    "# The thursday order are high followed by friday and sunday\n",
    "# monday,tuesday,wednesday and saturday are low"
   ]
  },
  {
   "cell_type": "code",
   "execution_count": 81,
   "id": "704cda4b",
   "metadata": {},
   "outputs": [],
   "source": [
    "# day wise orders\n",
    "revenue_day_wise=sales_df[['MONDAY_REVENUE','TUESDAY_REVENUE','WEDNESDAY_REVENUE','THURSDAY_REVENUE','FRIDAY_REVENUE','SATURDAY_REVENUE','SUNDAY_REVENUE']].sum()"
   ]
  },
  {
   "cell_type": "code",
   "execution_count": 82,
   "id": "12a0e1d5",
   "metadata": {},
   "outputs": [
    {
     "data": {
      "text/plain": [
       "[<matplotlib.lines.Line2D at 0x22f0048c850>]"
      ]
     },
     "execution_count": 82,
     "metadata": {},
     "output_type": "execute_result"
    },
    {
     "data": {
      "image/png": "[encoded data removed]",
      "text/plain": [
       "<Figure size 432x288 with 1 Axes>"
      ]
     },
     "metadata": {
      "needs_background": "light"
     },
     "output_type": "display_data"
    }
   ],
   "source": [
    "plt.plot(revenue_day_wise.values,revenue_day_wise.index,'-o')"
   ]
  },
  {
   "cell_type": "code",
   "execution_count": 83,
   "id": "b5c37346",
   "metadata": {},
   "outputs": [],
   "source": [
    "# observation : \n",
    "#  thursday,friday and sunday are high\n",
    "# monday,tuesday,wednesdaya and saturday are low"
   ]
  },
  {
   "cell_type": "code",
   "execution_count": 84,
   "id": "835a6c43",
   "metadata": {},
   "outputs": [],
   "source": [
    "# week wise orders plot\n",
    "\n",
    "week=sales_df[['WEEK1_DAY01_DAY07_ORDERS','WEEK2_DAY08_DAY15_ORDERS','WEEK3_DAY16_DAY23_ORDERS','WEEK4_DAY24_DAY31_ORDERS']].sum()"
   ]
  },
  {
   "cell_type": "code",
   "execution_count": 85,
   "id": "5cab1640",
   "metadata": {},
   "outputs": [
    {
     "data": {
      "text/plain": [
       "<AxesSubplot:>"
      ]
     },
     "execution_count": 85,
     "metadata": {},
     "output_type": "execute_result"
    },
    {
     "data": {
      "image/png": "[encoded data removed]",
      "text/plain": [
       "<Figure size 432x288 with 1 Axes>"
      ]
     },
     "metadata": {
      "needs_background": "light"
     },
     "output_type": "display_data"
    }
   ],
   "source": [
    "sns.barplot(x=week.values,y=week.index)"
   ]
  },
  {
   "cell_type": "code",
   "execution_count": 86,
   "id": "9b527d4d",
   "metadata": {},
   "outputs": [],
   "source": [
    "# observation:\n",
    "# -- week 4 has highest orders and respectively 3rd ,2nd and 1st\n"
   ]
  },
  {
   "cell_type": "code",
   "execution_count": 87,
   "id": "f7a8c7e3",
   "metadata": {},
   "outputs": [],
   "source": [
    "# week wise revenue plot\n",
    "week_revenue=sales_df[['WEEK1_DAY01_DAY07_REVENUE','WEEK2_DAY08_DAY15_REVENUE','WEEK3_DAY16_DAY23_REVENUE','WEEK4_DAY24_DAY31_REVENUE']].sum()"
   ]
  },
  {
   "cell_type": "code",
   "execution_count": 88,
   "id": "2eaee222",
   "metadata": {},
   "outputs": [
    {
     "data": {
      "text/plain": [
       "<AxesSubplot:>"
      ]
     },
     "execution_count": 88,
     "metadata": {},
     "output_type": "execute_result"
    },
    {
     "data": {
      "image/png": "[encoded data removed]",
      "text/plain": [
       "<Figure size 432x288 with 1 Axes>"
      ]
     },
     "metadata": {
      "needs_background": "light"
     },
     "output_type": "display_data"
    }
   ],
   "source": [
    "sns.barplot(x=week_revenue.values,y=week_revenue.index)"
   ]
  },
  {
   "cell_type": "code",
   "execution_count": 89,
   "id": "ba278be3",
   "metadata": {},
   "outputs": [],
   "source": [
    "# observation : week 4 has highest revenue"
   ]
  },
  {
   "cell_type": "code",
   "execution_count": 90,
   "id": "9e6d0398",
   "metadata": {},
   "outputs": [
    {
     "data": {
      "image/png": "[encoded data removed]",
      "text/plain": [
       "<Figure size 432x288 with 1 Axes>"
      ]
     },
     "metadata": {},
     "output_type": "display_data"
    }
   ],
   "source": [
    "# TIME WISE ORDERS PLOT\n",
    "time_orders=sales_df[['TIME_0000_0600_ORDERS','TIME_0601_1200_ORDERS', 'TIME_1200_1800_ORDERS','TIME_1801_2359_ORDERS']].sum()\n",
    "plt.pie(time_orders,labels=time_orders.index,autopct='%.0f%%');"
   ]
  },
  {
   "cell_type": "code",
   "execution_count": 91,
   "id": "1a1017b1",
   "metadata": {},
   "outputs": [],
   "source": [
    "# observation : the time being 12:00_18:00 is high"
   ]
  },
  {
   "cell_type": "code",
   "execution_count": 92,
   "id": "a63221c6",
   "metadata": {},
   "outputs": [
    {
     "data": {
      "image/png": "[encoded data removed]",
      "text/plain": [
       "<Figure size 432x288 with 1 Axes>"
      ]
     },
     "metadata": {},
     "output_type": "display_data"
    }
   ],
   "source": [
    "# TIME WISE REVENUE PLOT\\\n",
    "time_revenue=sales_df[['TIME_0000_0600_REVENUE','TIME_0601_1200_REVENUE', 'TIME_1200_1800_REVENUE','TIME_1801_2359_REVENUE']].sum()\n",
    "plt.pie(time_revenue,labels=time_revenue.index,autopct='%.0f%%');"
   ]
  },
  {
   "cell_type": "code",
   "execution_count": 93,
   "id": "a32b0ed8",
   "metadata": {},
   "outputs": [],
   "source": [
    "# observation : revenue at time being 12:00_18:00 is high and at 00:00_06:00 is low"
   ]
  },
  {
   "cell_type": "markdown",
   "id": "91668ff9",
   "metadata": {},
   "source": [
    "# SUMMARY"
   ]
  },
  {
   "cell_type": "markdown",
   "id": "fc85b28f",
   "metadata": {},
   "source": [
    "### 1.  THE CLUSTER 1 CUSTOMERS ARE  WITH HIGH MONETARY AND FREQUENCY"
   ]
  },
  {
   "cell_type": "markdown",
   "id": "6e128fc2",
   "metadata": {},
   "source": [
    "### 2. THE CLUSTER 0 CUSTOMERS ARE ALMOST CHURNED"
   ]
  },
  {
   "cell_type": "markdown",
   "id": "72e36645",
   "metadata": {},
   "source": [
    "### 3. THE CLUSTER 2 CUSTOMERS ARE NEXT IMPORTANT CUSTOMERS"
   ]
  },
  {
   "cell_type": "markdown",
   "id": "dce8ea60",
   "metadata": {},
   "source": [
    "### 4. THURSAY THE ORDERS AND REVENUE IS VERY HIGH ,RESPECTIVELY ON FRIDAY AND SUNDAY"
   ]
  },
  {
   "cell_type": "markdown",
   "id": "ce8b72b9",
   "metadata": {},
   "source": [
    "### 5. SUNDAY THE ORDERS ARE COMPARITIVELY LOW BUT THE REVENUE IS HIGH"
   ]
  },
  {
   "cell_type": "markdown",
   "id": "77d4ad0c",
   "metadata": {},
   "source": [
    "### 6. WEEK 4 HAS MORE ORDERS AND REVENUE"
   ]
  },
  {
   "cell_type": "markdown",
   "id": "7f05c133",
   "metadata": {},
   "source": [
    "### 7. THE SALES AND REVENUES ARE GRADUALLY INCREASING AS  WEEK INCREASES(MONTH_END)"
   ]
  },
  {
   "cell_type": "markdown",
   "id": "b0c9bc79",
   "metadata": {},
   "source": [
    "### 8. AT 12:00_18:00 THE ORDER PLACING AND REVENUE GENERATING IS HIGH"
   ]
  },
  {
   "cell_type": "code",
   "execution_count": null,
   "id": "72ed4302",
   "metadata": {},
   "outputs": [],
   "source": []
  },
  {
   "cell_type": "markdown",
   "id": "c8c38051",
   "metadata": {},
   "source": [
    "# DECISIONS TO TAKE:\n",
    "\n"
   ]
  },
  {
   "cell_type": "markdown",
   "id": "2aeb970a",
   "metadata": {},
   "source": [
    "### 1.CLUSTER 2  CUSTOMER SHOULD BE TAKEN CARE AS THEY ARE ALSO POTENTIAL CUSTOMERS OTHERWISE THEY WILL CHURN GRADUALLY"
   ]
  },
  {
   "cell_type": "markdown",
   "id": "3f779650",
   "metadata": {},
   "source": [
    "### 2.MONDAY ,TUESDAY,WEDNESDAY AND SATURDAY THE ORDERS AND REVENUE ARE LOW SO WE NEED TO PROVIDE SOME OFFERS TO MAKE THEM ORDER IN THOSE DAYS"
   ]
  },
  {
   "cell_type": "markdown",
   "id": "60520683",
   "metadata": {},
   "source": [
    "### 3. THE CUSTOMER SERVICE SHOULD BE HIGH ON THURSDAY,FRIDAY AND SUNDAY"
   ]
  },
  {
   "cell_type": "markdown",
   "id": "e1f9736c",
   "metadata": {},
   "source": [
    "### 4. THE CUSTOMER SERVICES SHOULD BE HIGH AT 12:00_18:00 RESPECTIVELY FROM 18:00_00:00 AS THE ORDERS AND REVENUE ARE HIGH"
   ]
  },
  {
   "cell_type": "code",
   "execution_count": null,
   "id": "35ed49db",
   "metadata": {},
   "outputs": [],
   "source": []
  },
  {
   "cell_type": "code",
   "execution_count": null,
   "id": "76bde2f4",
   "metadata": {},
   "outputs": [],
   "source": []
  },
  {
   "cell_type": "markdown",
   "id": "fa44b064",
   "metadata": {},
   "source": [
    "#  UNDERSTANDING THE DATA"
   ]
  },
  {
   "cell_type": "markdown",
   "id": "3225ac25",
   "metadata": {},
   "source": [
    "- Data Set is a sales data which consisting of 5000 rows and 40 columns after remooving unnecessary data . \n",
    "- In Data set, 38 feautures are int,float variables and other 2 are datatimestamp feautures\n",
    "- There are no missing values\n",
    "- the data is detailing that the sales of an organization\n",
    "- the data is having the details of the revenue,orders by the customers and also the behaviour of sales distinguished according    week ,days and time consideration\n"
   ]
  },
  {
   "cell_type": "code",
   "execution_count": null,
   "id": "e8cbc660",
   "metadata": {},
   "outputs": [],
   "source": []
  },
  {
   "cell_type": "markdown",
   "id": "3c0177ab",
   "metadata": {},
   "source": [
    "# MODEL SELECTION AND SEGMENTATION"
   ]
  },
  {
   "cell_type": "markdown",
   "id": "3c3569d6",
   "metadata": {},
   "source": [
    "- As we dont have any output feauture ,so i considered the unsupervised for data modellng\n",
    "- The problem statement stated that use RFM model ,so i used RFM features to analysis \n",
    "- The need of the model is customer segmentation ,which is a clustering task , so i used the kmeans ++ for model \n"
   ]
  },
  {
   "cell_type": "code",
   "execution_count": null,
   "id": "4b95090e",
   "metadata": {},
   "outputs": [],
   "source": []
  },
  {
   "cell_type": "markdown",
   "id": "40572ffb",
   "metadata": {},
   "source": [
    "# Ranking"
   ]
  },
  {
   "cell_type": "markdown",
   "id": "91ea6131",
   "metadata": {},
   "source": [
    "### CLUSTER  0 ARE CHAMPIONS\n",
    "### CLUSTER 2 ARE POTENTIAL CUSTOMERS\n",
    "### CLUSTER 1  CUSTOMERS NEED ATTENTION"
   ]
  },
  {
   "cell_type": "code",
   "execution_count": null,
   "id": "1864f171",
   "metadata": {},
   "outputs": [],
   "source": []
  }
 ],
 "metadata": {
  "kernelspec": {
   "display_name": "Python 3 (ipykernel)",
   "language": "python",
   "name": "python3"
  },
  "language_info": {
   "codemirror_mode": {
    "name": "ipython",
    "version": 3
   },
   "file_extension": ".py",
   "mimetype": "text/x-python",
   "name": "python",
   "nbconvert_exporter": "python",
   "pygments_lexer": "ipython3",
   "version": "3.9.7"
  }
 },
 "nbformat": 4,
 "nbformat_minor": 5
}
